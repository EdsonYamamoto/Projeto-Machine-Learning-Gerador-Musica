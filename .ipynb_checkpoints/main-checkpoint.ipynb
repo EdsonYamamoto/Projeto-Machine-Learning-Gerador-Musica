{
 "cells": [
  {
   "cell_type": "code",
   "execution_count": 31,
   "metadata": {},
   "outputs": [],
   "source": [
    "from music21 import *\n",
    "from datetime import datetime"
   ]
  },
  {
   "cell_type": "code",
   "execution_count": null,
   "metadata": {},
   "outputs": [],
   "source": [
    "checkpoint = \"bestModelTextGen.hdf5\""
   ]
  },
  {
   "cell_type": "code",
   "execution_count": 3,
   "metadata": {},
   "outputs": [],
   "source": [
    "#defining function to read MIDI files\n",
    "def read_midi(file):\n",
    "    \n",
    "    print(\"Loading Music File:\",file)\n",
    "    \n",
    "    notes=[]\n",
    "    notes_to_parse = None\n",
    "    \n",
    "    #parsing a midi file\n",
    "    midi = converter.parse(file)\n",
    "  \n",
    "    #grouping based on different instruments\n",
    "    s2 = instrument.partitionByInstrument(midi)\n",
    "\n",
    "    #Looping over all the instruments\n",
    "    for part in s2.parts:\n",
    "    \n",
    "        #select elements of only piano\n",
    "        if 'Piano' in str(part): \n",
    "        \n",
    "            notes_to_parse = part.recurse() \n",
    "      \n",
    "            #finding whether a particular element is note or a chord\n",
    "            for element in notes_to_parse:\n",
    "                \n",
    "                #note\n",
    "                if isinstance(element, note.Note):\n",
    "                    notes.append(str(element.pitch))\n",
    "                \n",
    "                #chord\n",
    "                elif isinstance(element, chord.Chord):\n",
    "                    notes.append('.'.join(str(n) for n in element.normalOrder))\n",
    "\n",
    "    return np.array(notes)"
   ]
  },
  {
   "cell_type": "code",
   "execution_count": 4,
   "metadata": {},
   "outputs": [
    {
     "name": "stdout",
     "output_type": "stream",
     "text": [
      "Loading Music File: schubert/schubert_D850_1.mid\n",
      "Loading Music File: schubert/schubert_D850_2.mid\n",
      "Loading Music File: schubert/schubert_D850_3.mid\n",
      "Loading Music File: schubert/schubert_D850_4.mid\n",
      "Loading Music File: schubert/schubert_D935_1.mid\n",
      "Loading Music File: schubert/schubert_D935_2.mid\n",
      "Loading Music File: schubert/schubert_D935_3.mid\n",
      "Loading Music File: schubert/schubert_D935_4.mid\n",
      "Loading Music File: schubert/schub_d760_1.mid\n",
      "Loading Music File: schubert/schub_d760_2.mid\n",
      "Loading Music File: schubert/schub_d760_3.mid\n",
      "Loading Music File: schubert/schub_d760_4.mid\n",
      "Loading Music File: schubert/schub_d960_1.mid\n",
      "Loading Music File: schubert/schub_d960_2.mid\n",
      "Loading Music File: schubert/schub_d960_3.mid\n",
      "Loading Music File: schubert/schub_d960_4.mid\n",
      "Loading Music File: schubert/schuim-1.mid\n",
      "Loading Music File: schubert/schuim-2.mid\n",
      "Loading Music File: schubert/schuim-3.mid\n",
      "Loading Music File: schubert/schuim-4.mid\n",
      "Loading Music File: schubert/schumm-1.mid\n",
      "Loading Music File: schubert/schumm-2.mid\n",
      "Loading Music File: schubert/schumm-3.mid\n",
      "Loading Music File: schubert/schumm-4.mid\n",
      "Loading Music File: schubert/schumm-5.mid\n",
      "Loading Music File: schubert/schumm-6.mid\n",
      "Loading Music File: schubert/schu_143_1.mid\n",
      "Loading Music File: schubert/schu_143_2.mid\n",
      "Loading Music File: schubert/schu_143_3.mid\n"
     ]
    }
   ],
   "source": [
    "#for listing down the file names\n",
    "import os\n",
    "\n",
    "#Array Processing\n",
    "import numpy as np\n",
    "\n",
    "#specify the path\n",
    "path='schubert/'\n",
    "\n",
    "#read all the filenames\n",
    "files=[i for i in os.listdir(path) if i.endswith(\".mid\")]\n",
    "\n",
    "#reading each midi file\n",
    "notes_array = np.array([read_midi(path+i) for i in files])"
   ]
  },
  {
   "cell_type": "code",
   "execution_count": 5,
   "metadata": {},
   "outputs": [
    {
     "name": "stdout",
     "output_type": "stream",
     "text": [
      "304\n"
     ]
    }
   ],
   "source": [
    "#converting 2D array into 1D array\n",
    "notes_ = [element for note_ in notes_array for element in note_]\n",
    "\n",
    "#No. of unique notes\n",
    "unique_notes = list(set(notes_))\n",
    "print(len(unique_notes))"
   ]
  },
  {
   "cell_type": "code",
   "execution_count": 6,
   "metadata": {},
   "outputs": [
    {
     "data": {
      "text/plain": [
       "(array([187.,  40.,  27.,  11.,   6.,   9.,  12.,   6.,   3.,   3.]),\n",
       " array([1.0000e+00, 1.4810e+02, 2.9520e+02, 4.4230e+02, 5.8940e+02,\n",
       "        7.3650e+02, 8.8360e+02, 1.0307e+03, 1.1778e+03, 1.3249e+03,\n",
       "        1.4720e+03]),\n",
       " <a list of 10 Patch objects>)"
      ]
     },
     "execution_count": 6,
     "metadata": {},
     "output_type": "execute_result"
    },
    {
     "data": {
      "image/png": "[encoded data removed]",
      "text/plain": [
       "<Figure size 360x360 with 1 Axes>"
      ]
     },
     "metadata": {
      "image/png": {
       "height": 304,
       "width": 321
      },
      "needs_background": "light"
     },
     "output_type": "display_data"
    }
   ],
   "source": [
    "#importing library\n",
    "from collections import Counter\n",
    "\n",
    "#computing frequency of each note\n",
    "freq = dict(Counter(notes_))\n",
    "\n",
    "#library for visualiation\n",
    "import matplotlib.pyplot as plt\n",
    "\n",
    "#consider only the frequencies\n",
    "no=[count for _,count in freq.items()]\n",
    "\n",
    "#set the figure size\n",
    "plt.figure(figsize=(5,5))\n",
    "\n",
    "#plot\n",
    "plt.hist(no)"
   ]
  },
  {
   "cell_type": "code",
   "execution_count": 8,
   "metadata": {},
   "outputs": [
    {
     "name": "stdout",
     "output_type": "stream",
     "text": [
      "167\n"
     ]
    }
   ],
   "source": [
    "frequent_notes = [note_ for note_, count in freq.items() if count>=50]\n",
    "print(len(frequent_notes))"
   ]
  },
  {
   "cell_type": "code",
   "execution_count": 9,
   "metadata": {},
   "outputs": [],
   "source": [
    "new_music=[]\n",
    "\n",
    "for notes in notes_array:\n",
    "    temp=[]\n",
    "    for note_ in notes:\n",
    "        if note_ in frequent_notes:\n",
    "            temp.append(note_)            \n",
    "    new_music.append(temp)\n",
    "    \n",
    "new_music = np.array(new_music)"
   ]
  },
  {
   "cell_type": "code",
   "execution_count": 10,
   "metadata": {},
   "outputs": [],
   "source": [
    "no_of_timesteps = 32\n",
    "x = []\n",
    "y = []\n",
    "\n",
    "for note_ in new_music:\n",
    "    for i in range(0, len(note_) - no_of_timesteps, 1):\n",
    "        \n",
    "        #preparing input and output sequences\n",
    "        input_ = note_[i:i + no_of_timesteps]\n",
    "        output = note_[i + no_of_timesteps]\n",
    "        \n",
    "        x.append(input_)\n",
    "        y.append(output)\n",
    "        \n",
    "x=np.array(x)\n",
    "y=np.array(y)"
   ]
  },
  {
   "cell_type": "code",
   "execution_count": 12,
   "metadata": {},
   "outputs": [],
   "source": [
    "unique_x = list(set(x.ravel()))\n",
    "x_note_to_int = dict((note_, number) for number, note_ in enumerate(unique_x))"
   ]
  },
  {
   "cell_type": "code",
   "execution_count": 13,
   "metadata": {},
   "outputs": [],
   "source": [
    "#preparing input sequences\n",
    "x_seq=[]\n",
    "for i in x:\n",
    "    temp=[]\n",
    "    for j in i:\n",
    "        #assigning unique integer to every note\n",
    "        temp.append(x_note_to_int[j])\n",
    "    x_seq.append(temp)\n",
    "    \n",
    "x_seq = np.array(x_seq)"
   ]
  },
  {
   "cell_type": "code",
   "execution_count": 14,
   "metadata": {},
   "outputs": [],
   "source": [
    "unique_y = list(set(y))\n",
    "y_note_to_int = dict((note_, number) for number, note_ in enumerate(unique_y)) \n",
    "y_seq=np.array([y_note_to_int[i] for i in y])"
   ]
  },
  {
   "cell_type": "code",
   "execution_count": 15,
   "metadata": {},
   "outputs": [],
   "source": [
    "from sklearn.model_selection import train_test_split\n",
    "x_tr, x_val, y_tr, y_val = train_test_split(x_seq,y_seq,test_size=0.2,random_state=0)"
   ]
  },
  {
   "cell_type": "code",
   "execution_count": null,
   "metadata": {},
   "outputs": [],
   "source": [
    "def lstm():\n",
    "  model = Sequential()\n",
    "  model.add(LSTM(128,return_sequences=True))\n",
    "  model.add(LSTM(128))\n",
    "  model.add(Dense(256))\n",
    "  model.add(Activation('relu'))\n",
    "  model.add(Dense(n_vocab))\n",
    "  model.add(Activation('softmax'))\n",
    "  model.compile(loss='sparse_categorical_crossentropy', optimizer='adam')\n",
    "  return model"
   ]
  },
  {
   "cell_type": "code",
   "execution_count": 16,
   "metadata": {},
   "outputs": [
    {
     "name": "stderr",
     "output_type": "stream",
     "text": [
      "Using TensorFlow backend.\n",
      "WARNING: Logging before flag parsing goes to stderr.\n",
      "W1203 18:54:52.854984  5420 deprecation_wrapper.py:119] From c:\\users\\t-gamer\\documents\\git\\projetointeligenciaartificialsistemasugestao\\gpuvenv\\lib\\site-packages\\keras\\backend\\tensorflow_backend.py:95: The name tf.reset_default_graph is deprecated. Please use tf.compat.v1.reset_default_graph instead.\n",
      "\n",
      "W1203 18:54:52.856986  5420 deprecation_wrapper.py:119] From c:\\users\\t-gamer\\documents\\git\\projetointeligenciaartificialsistemasugestao\\gpuvenv\\lib\\site-packages\\keras\\backend\\tensorflow_backend.py:98: The name tf.placeholder_with_default is deprecated. Please use tf.compat.v1.placeholder_with_default instead.\n",
      "\n",
      "W1203 18:54:53.107848  5420 deprecation_wrapper.py:119] From c:\\users\\t-gamer\\documents\\git\\projetointeligenciaartificialsistemasugestao\\gpuvenv\\lib\\site-packages\\keras\\backend\\tensorflow_backend.py:102: The name tf.get_default_graph is deprecated. Please use tf.compat.v1.get_default_graph instead.\n",
      "\n",
      "W1203 18:54:53.110845  5420 deprecation_wrapper.py:119] From c:\\users\\t-gamer\\documents\\git\\projetointeligenciaartificialsistemasugestao\\gpuvenv\\lib\\site-packages\\keras\\backend\\tensorflow_backend.py:517: The name tf.placeholder is deprecated. Please use tf.compat.v1.placeholder instead.\n",
      "\n",
      "W1203 18:54:53.116846  5420 deprecation_wrapper.py:119] From c:\\users\\t-gamer\\documents\\git\\projetointeligenciaartificialsistemasugestao\\gpuvenv\\lib\\site-packages\\keras\\backend\\tensorflow_backend.py:4138: The name tf.random_uniform is deprecated. Please use tf.random.uniform instead.\n",
      "\n",
      "W1203 18:54:53.286810  5420 deprecation.py:506] From c:\\users\\t-gamer\\documents\\git\\projetointeligenciaartificialsistemasugestao\\gpuvenv\\lib\\site-packages\\keras\\backend\\tensorflow_backend.py:3445: calling dropout (from tensorflow.python.ops.nn_ops) with keep_prob is deprecated and will be removed in a future version.\n",
      "Instructions for updating:\n",
      "Please use `rate` instead of `keep_prob`. Rate should be set to `rate = 1 - keep_prob`.\n",
      "W1203 18:54:53.347813  5420 deprecation_wrapper.py:119] From c:\\users\\t-gamer\\documents\\git\\projetointeligenciaartificialsistemasugestao\\gpuvenv\\lib\\site-packages\\keras\\backend\\tensorflow_backend.py:3976: The name tf.nn.max_pool is deprecated. Please use tf.nn.max_pool2d instead.\n",
      "\n",
      "W1203 18:54:53.596838  5420 deprecation_wrapper.py:119] From c:\\users\\t-gamer\\documents\\git\\projetointeligenciaartificialsistemasugestao\\gpuvenv\\lib\\site-packages\\keras\\optimizers.py:790: The name tf.train.Optimizer is deprecated. Please use tf.compat.v1.train.Optimizer instead.\n",
      "\n"
     ]
    },
    {
     "name": "stdout",
     "output_type": "stream",
     "text": [
      "_________________________________________________________________\n",
      "Layer (type)                 Output Shape              Param #   \n",
      "=================================================================\n",
      "embedding_1 (Embedding)      (None, 32, 100)           16700     \n",
      "_________________________________________________________________\n",
      "conv1d_1 (Conv1D)            (None, 32, 64)            19264     \n",
      "_________________________________________________________________\n",
      "dropout_1 (Dropout)          (None, 32, 64)            0         \n",
      "_________________________________________________________________\n",
      "max_pooling1d_1 (MaxPooling1 (None, 16, 64)            0         \n",
      "_________________________________________________________________\n",
      "conv1d_2 (Conv1D)            (None, 16, 128)           24704     \n",
      "_________________________________________________________________\n",
      "dropout_2 (Dropout)          (None, 16, 128)           0         \n",
      "_________________________________________________________________\n",
      "max_pooling1d_2 (MaxPooling1 (None, 8, 128)            0         \n",
      "_________________________________________________________________\n",
      "conv1d_3 (Conv1D)            (None, 8, 256)            98560     \n",
      "_________________________________________________________________\n",
      "dropout_3 (Dropout)          (None, 8, 256)            0         \n",
      "_________________________________________________________________\n",
      "max_pooling1d_3 (MaxPooling1 (None, 4, 256)            0         \n",
      "_________________________________________________________________\n",
      "global_max_pooling1d_1 (Glob (None, 256)               0         \n",
      "_________________________________________________________________\n",
      "dense_1 (Dense)              (None, 256)               65792     \n",
      "_________________________________________________________________\n",
      "dense_2 (Dense)              (None, 167)               42919     \n",
      "=================================================================\n",
      "Total params: 267,939\n",
      "Trainable params: 267,939\n",
      "Non-trainable params: 0\n",
      "_________________________________________________________________\n"
     ]
    }
   ],
   "source": [
    "from keras.layers import *\n",
    "from keras.models import *\n",
    "from keras.callbacks import *\n",
    "import keras.backend as K\n",
    "\n",
    "K.clear_session()\n",
    "model = Sequential()\n",
    "    \n",
    "#embedding layer\n",
    "model.add(Embedding(len(unique_x), 100, input_length=32,trainable=True)) \n",
    "\n",
    "model.add(Conv1D(64,3, padding='causal',activation='relu'))\n",
    "model.add(Dropout(0.2))\n",
    "model.add(MaxPool1D(2))\n",
    "    \n",
    "model.add(Conv1D(128,3,activation='relu',dilation_rate=2,padding='causal'))\n",
    "model.add(Dropout(0.2))\n",
    "model.add(MaxPool1D(2))\n",
    "\n",
    "model.add(Conv1D(256,3,activation='relu',dilation_rate=4,padding='causal'))\n",
    "model.add(Dropout(0.2))\n",
    "model.add(MaxPool1D(2))\n",
    "          \n",
    "#model.add(Conv1D(256,5,activation='relu'))    \n",
    "model.add(GlobalMaxPool1D())\n",
    "    \n",
    "model.add(Dense(256, activation='relu'))\n",
    "model.add(Dense(len(unique_y), activation='softmax'))\n",
    "    \n",
    "model.compile(loss='sparse_categorical_crossentropy', optimizer='adam')\n",
    "\n",
    "model.summary()"
   ]
  },
  {
   "cell_type": "code",
   "execution_count": 18,
   "metadata": {},
   "outputs": [],
   "source": [
    "mc=ModelCheckpoint(checkpoint, monitor='val_loss', mode='min', save_best_only=True,verbose=1)\n",
    "es = EarlyStopping(monitor='val_loss', mode='min', verbose=1, patience=100, min_delta=0.000001)\n"
   ]
  },
  {
   "cell_type": "code",
   "execution_count": 19,
   "metadata": {},
   "outputs": [
    {
     "name": "stderr",
     "output_type": "stream",
     "text": [
      "W1203 18:56:12.936896  5420 deprecation.py:323] From c:\\users\\t-gamer\\documents\\git\\projetointeligenciaartificialsistemasugestao\\gpuvenv\\lib\\site-packages\\tensorflow\\python\\ops\\math_grad.py:1250: add_dispatch_support.<locals>.wrapper (from tensorflow.python.ops.array_ops) is deprecated and will be removed in a future version.\n",
      "Instructions for updating:\n",
      "Use tf.where in 2.0, which has the same broadcast rule as np.where\n"
     ]
    },
    {
     "name": "stdout",
     "output_type": "stream",
     "text": [
      "Train on 51544 samples, validate on 12886 samples\n",
      "Epoch 1/50\n",
      "51544/51544 [==============================] - 22s 423us/step - loss: 4.3512 - val_loss: 4.0663\n",
      "\n",
      "Epoch 00001: val_loss improved from inf to 4.06634, saving model to best_model.h5\n",
      "Epoch 2/50\n",
      "51544/51544 [==============================] - 4s 68us/step - loss: 3.8054 - val_loss: 3.7958\n",
      "\n",
      "Epoch 00002: val_loss improved from 4.06634 to 3.79579, saving model to best_model.h5\n",
      "Epoch 3/50\n",
      "51544/51544 [==============================] - 3s 67us/step - loss: 3.6239 - val_loss: 3.6745\n",
      "\n",
      "Epoch 00003: val_loss improved from 3.79579 to 3.67454, saving model to best_model.h5\n",
      "Epoch 4/50\n",
      "51544/51544 [==============================] - 4s 69us/step - loss: 3.4863 - val_loss: 3.5916\n",
      "\n",
      "Epoch 00004: val_loss improved from 3.67454 to 3.59160, saving model to best_model.h5\n",
      "Epoch 5/50\n",
      "51544/51544 [==============================] - 4s 70us/step - loss: 3.3853 - val_loss: 3.4647\n",
      "\n",
      "Epoch 00005: val_loss improved from 3.59160 to 3.46466, saving model to best_model.h5\n",
      "Epoch 6/50\n",
      "51544/51544 [==============================] - 4s 82us/step - loss: 3.2987 - val_loss: 3.4174\n",
      "\n",
      "Epoch 00006: val_loss improved from 3.46466 to 3.41743, saving model to best_model.h5\n",
      "Epoch 7/50\n",
      "51544/51544 [==============================] - 4s 79us/step - loss: 3.2256 - val_loss: 3.3765\n",
      "\n",
      "Epoch 00007: val_loss improved from 3.41743 to 3.37646, saving model to best_model.h5\n",
      "Epoch 8/50\n",
      "51544/51544 [==============================] - 4s 69us/step - loss: 3.1637 - val_loss: 3.2753\n",
      "\n",
      "Epoch 00008: val_loss improved from 3.37646 to 3.27534, saving model to best_model.h5\n",
      "Epoch 9/50\n",
      "51544/51544 [==============================] - 4s 68us/step - loss: 3.1122 - val_loss: 3.2712\n",
      "\n",
      "Epoch 00009: val_loss improved from 3.27534 to 3.27121, saving model to best_model.h5\n",
      "Epoch 10/50\n",
      "51544/51544 [==============================] - 3s 67us/step - loss: 3.0491 - val_loss: 3.2146\n",
      "\n",
      "Epoch 00010: val_loss improved from 3.27121 to 3.21462, saving model to best_model.h5\n",
      "Epoch 11/50\n",
      "51544/51544 [==============================] - 4s 70us/step - loss: 3.0045 - val_loss: 3.1833\n",
      "\n",
      "Epoch 00011: val_loss improved from 3.21462 to 3.18334, saving model to best_model.h5\n",
      "Epoch 12/50\n",
      "51544/51544 [==============================] - 4s 69us/step - loss: 2.9603 - val_loss: 3.1365\n",
      "\n",
      "Epoch 00012: val_loss improved from 3.18334 to 3.13655, saving model to best_model.h5\n",
      "Epoch 13/50\n",
      "51544/51544 [==============================] - 4s 70us/step - loss: 2.9228 - val_loss: 3.1560\n",
      "\n",
      "Epoch 00013: val_loss did not improve from 3.13655\n",
      "Epoch 14/50\n",
      "51544/51544 [==============================] - 4s 71us/step - loss: 2.8837 - val_loss: 3.0959\n",
      "\n",
      "Epoch 00014: val_loss improved from 3.13655 to 3.09587, saving model to best_model.h5\n",
      "Epoch 15/50\n",
      "51544/51544 [==============================] - 3s 67us/step - loss: 2.8447 - val_loss: 3.0885\n",
      "\n",
      "Epoch 00015: val_loss improved from 3.09587 to 3.08852, saving model to best_model.h5\n",
      "Epoch 16/50\n",
      "51544/51544 [==============================] - 4s 69us/step - loss: 2.8119 - val_loss: 3.0501\n",
      "\n",
      "Epoch 00016: val_loss improved from 3.08852 to 3.05015, saving model to best_model.h5\n",
      "Epoch 17/50\n",
      "51544/51544 [==============================] - 4s 69us/step - loss: 2.7846 - val_loss: 3.0405\n",
      "\n",
      "Epoch 00017: val_loss improved from 3.05015 to 3.04055, saving model to best_model.h5\n",
      "Epoch 18/50\n",
      "51544/51544 [==============================] - 3s 67us/step - loss: 2.7627 - val_loss: 3.0247\n",
      "\n",
      "Epoch 00018: val_loss improved from 3.04055 to 3.02469, saving model to best_model.h5\n",
      "Epoch 19/50\n",
      "51544/51544 [==============================] - 3s 67us/step - loss: 2.7314 - val_loss: 2.9978\n",
      "\n",
      "Epoch 00019: val_loss improved from 3.02469 to 2.99781, saving model to best_model.h5\n",
      "Epoch 20/50\n",
      "51544/51544 [==============================] - 4s 69us/step - loss: 2.7040 - val_loss: 3.0034\n",
      "\n",
      "Epoch 00020: val_loss did not improve from 2.99781\n",
      "Epoch 21/50\n",
      "51544/51544 [==============================] - 4s 69us/step - loss: 2.6905 - val_loss: 2.9851\n",
      "\n",
      "Epoch 00021: val_loss improved from 2.99781 to 2.98507, saving model to best_model.h5\n",
      "Epoch 22/50\n",
      "51544/51544 [==============================] - 4s 74us/step - loss: 2.6642 - val_loss: 2.9706\n",
      "\n",
      "Epoch 00022: val_loss improved from 2.98507 to 2.97061, saving model to best_model.h5\n",
      "Epoch 23/50\n",
      "51544/51544 [==============================] - 4s 69us/step - loss: 2.6417 - val_loss: 2.9442\n",
      "\n",
      "Epoch 00023: val_loss improved from 2.97061 to 2.94422, saving model to best_model.h5\n",
      "Epoch 24/50\n",
      "51544/51544 [==============================] - 4s 68us/step - loss: 2.6247 - val_loss: 2.9789\n",
      "\n",
      "Epoch 00024: val_loss did not improve from 2.94422\n",
      "Epoch 25/50\n",
      "51544/51544 [==============================] - 3s 67us/step - loss: 2.6066 - val_loss: 2.9224\n",
      "\n",
      "Epoch 00025: val_loss improved from 2.94422 to 2.92240, saving model to best_model.h5\n",
      "Epoch 26/50\n",
      "51544/51544 [==============================] - 4s 68us/step - loss: 2.5881 - val_loss: 2.9177\n",
      "\n",
      "Epoch 00026: val_loss improved from 2.92240 to 2.91771, saving model to best_model.h5\n",
      "Epoch 27/50\n",
      "51544/51544 [==============================] - 4s 70us/step - loss: 2.5729 - val_loss: 2.8946\n",
      "\n",
      "Epoch 00027: val_loss improved from 2.91771 to 2.89455, saving model to best_model.h5\n",
      "Epoch 28/50\n",
      "51544/51544 [==============================] - 4s 74us/step - loss: 2.5608 - val_loss: 2.8984\n",
      "\n",
      "Epoch 00028: val_loss did not improve from 2.89455\n",
      "Epoch 29/50\n",
      "51544/51544 [==============================] - 4s 76us/step - loss: 2.5480 - val_loss: 2.8900\n",
      "\n",
      "Epoch 00029: val_loss improved from 2.89455 to 2.89001, saving model to best_model.h5\n",
      "Epoch 30/50\n",
      "51544/51544 [==============================] - 4s 74us/step - loss: 2.5308 - val_loss: 2.8849\n",
      "\n",
      "Epoch 00030: val_loss improved from 2.89001 to 2.88489, saving model to best_model.h5\n",
      "Epoch 31/50\n",
      "51544/51544 [==============================] - 4s 72us/step - loss: 2.5217 - val_loss: 2.8780\n",
      "\n",
      "Epoch 00031: val_loss improved from 2.88489 to 2.87797, saving model to best_model.h5\n",
      "Epoch 32/50\n",
      "51544/51544 [==============================] - 4s 73us/step - loss: 2.5037 - val_loss: 2.8508\n",
      "\n",
      "Epoch 00032: val_loss improved from 2.87797 to 2.85082, saving model to best_model.h5\n",
      "Epoch 33/50\n",
      "51544/51544 [==============================] - 4s 73us/step - loss: 2.4950 - val_loss: 2.8471\n",
      "\n",
      "Epoch 00033: val_loss improved from 2.85082 to 2.84709, saving model to best_model.h5\n",
      "Epoch 34/50\n",
      "51544/51544 [==============================] - 4s 69us/step - loss: 2.4757 - val_loss: 2.8582\n",
      "\n",
      "Epoch 00034: val_loss did not improve from 2.84709\n",
      "Epoch 35/50\n",
      "51544/51544 [==============================] - 4s 68us/step - loss: 2.4719 - val_loss: 2.8576\n",
      "\n",
      "Epoch 00035: val_loss did not improve from 2.84709\n",
      "Epoch 36/50\n",
      "51544/51544 [==============================] - 3s 68us/step - loss: 2.4636 - val_loss: 2.8371\n",
      "\n",
      "Epoch 00036: val_loss improved from 2.84709 to 2.83714, saving model to best_model.h5\n",
      "Epoch 37/50\n",
      "51544/51544 [==============================] - 4s 70us/step - loss: 2.4471 - val_loss: 2.8315\n",
      "\n",
      "Epoch 00037: val_loss improved from 2.83714 to 2.83145, saving model to best_model.h5\n",
      "Epoch 38/50\n",
      "51544/51544 [==============================] - 4s 71us/step - loss: 2.4395 - val_loss: 2.8264\n",
      "\n",
      "Epoch 00038: val_loss improved from 2.83145 to 2.82639, saving model to best_model.h5\n",
      "Epoch 39/50\n",
      "51544/51544 [==============================] - 4s 70us/step - loss: 2.4256 - val_loss: 2.8029\n",
      "\n",
      "Epoch 00039: val_loss improved from 2.82639 to 2.80285, saving model to best_model.h5\n",
      "Epoch 40/50\n",
      "51544/51544 [==============================] - 4s 70us/step - loss: 2.4179 - val_loss: 2.8063\n",
      "\n",
      "Epoch 00040: val_loss did not improve from 2.80285\n",
      "Epoch 41/50\n",
      "51544/51544 [==============================] - 3s 68us/step - loss: 2.4174 - val_loss: 2.8009\n",
      "\n",
      "Epoch 00041: val_loss improved from 2.80285 to 2.80090, saving model to best_model.h5\n",
      "Epoch 42/50\n",
      "51544/51544 [==============================] - 4s 72us/step - loss: 2.4056 - val_loss: 2.8028\n",
      "\n",
      "Epoch 00042: val_loss did not improve from 2.80090\n",
      "Epoch 43/50\n",
      "51544/51544 [==============================] - 3s 68us/step - loss: 2.3994 - val_loss: 2.7990\n",
      "\n",
      "Epoch 00043: val_loss improved from 2.80090 to 2.79903, saving model to best_model.h5\n",
      "Epoch 44/50\n",
      "51544/51544 [==============================] - 4s 72us/step - loss: 2.3894 - val_loss: 2.8025\n",
      "\n",
      "Epoch 00044: val_loss did not improve from 2.79903\n",
      "Epoch 45/50\n"
     ]
    },
    {
     "name": "stdout",
     "output_type": "stream",
     "text": [
      "51544/51544 [==============================] - 3s 68us/step - loss: 2.3803 - val_loss: 2.7846\n",
      "\n",
      "Epoch 00045: val_loss improved from 2.79903 to 2.78461, saving model to best_model.h5\n",
      "Epoch 46/50\n",
      "51544/51544 [==============================] - 4s 70us/step - loss: 2.3712 - val_loss: 2.7943\n",
      "\n",
      "Epoch 00046: val_loss did not improve from 2.78461\n",
      "Epoch 47/50\n",
      "51544/51544 [==============================] - 4s 71us/step - loss: 2.3677 - val_loss: 2.7794\n",
      "\n",
      "Epoch 00047: val_loss improved from 2.78461 to 2.77939, saving model to best_model.h5\n",
      "Epoch 48/50\n",
      "51544/51544 [==============================] - 4s 74us/step - loss: 2.3561 - val_loss: 2.7847\n",
      "\n",
      "Epoch 00048: val_loss did not improve from 2.77939\n",
      "Epoch 49/50\n",
      "51544/51544 [==============================] - 4s 77us/step - loss: 2.3555 - val_loss: 2.7624\n",
      "\n",
      "Epoch 00049: val_loss improved from 2.77939 to 2.76243, saving model to best_model.h5\n",
      "Epoch 50/50\n",
      "51544/51544 [==============================] - 4s 73us/step - loss: 2.3551 - val_loss: 2.7740\n",
      "\n",
      "Epoch 00050: val_loss did not improve from 2.76243\n"
     ]
    }
   ],
   "source": [
    "history = model.fit(np.array(x_tr),np.array(y_tr),batch_size=128,epochs=50, validation_data=(np.array(x_val),np.array(y_val)),verbose=1, callbacks=[mc])"
   ]
  },
  {
   "cell_type": "code",
   "execution_count": 36,
   "metadata": {},
   "outputs": [
    {
     "data": {
      "text/plain": [
       "{'val_loss': [4.066336427437266,\n",
       "  3.7957873555715826,\n",
       "  3.6745421151909126,\n",
       "  3.5916018339115956,\n",
       "  3.4646565860127803,\n",
       "  3.417428321466856,\n",
       "  3.3764566309459827,\n",
       "  3.2753371580702058,\n",
       "  3.2712068799377207,\n",
       "  3.2146189396710345,\n",
       "  3.183344425149314,\n",
       "  3.1365485260543218,\n",
       "  3.1560401451360103,\n",
       "  3.095869474819538,\n",
       "  3.0885176038068587,\n",
       "  3.050147129737052,\n",
       "  3.0405454651161916,\n",
       "  3.0246871120530443,\n",
       "  2.997811968867201,\n",
       "  3.003436462749296,\n",
       "  2.9850738914083585,\n",
       "  2.9706102294912995,\n",
       "  2.944217707787762,\n",
       "  2.9788616244585344,\n",
       "  2.922398968141086,\n",
       "  2.917708749821444,\n",
       "  2.894550800064456,\n",
       "  2.8984274909342,\n",
       "  2.890013162826652,\n",
       "  2.884891441995898,\n",
       "  2.877967288992558,\n",
       "  2.8508235467584835,\n",
       "  2.847088152589255,\n",
       "  2.8581567178430456,\n",
       "  2.85763167842804,\n",
       "  2.8371389672638894,\n",
       "  2.831452018149277,\n",
       "  2.8263862347650948,\n",
       "  2.802850084498712,\n",
       "  2.806260993683096,\n",
       "  2.8009046770744437,\n",
       "  2.802773492076873,\n",
       "  2.7990296799148924,\n",
       "  2.8025043805933656,\n",
       "  2.7846083088208298,\n",
       "  2.7943149629113617,\n",
       "  2.779387257214975,\n",
       "  2.7846815740027893,\n",
       "  2.762427887338558,\n",
       "  2.774011693902958],\n",
       " 'loss': [4.351238447817219,\n",
       "  3.8053542864946186,\n",
       "  3.6239218480576274,\n",
       "  3.486252487214589,\n",
       "  3.3853387171005065,\n",
       "  3.2986785333829696,\n",
       "  3.225589250234201,\n",
       "  3.1637296503085666,\n",
       "  3.112178143443999,\n",
       "  3.0490779016359464,\n",
       "  3.0045160827254835,\n",
       "  2.9603340521040824,\n",
       "  2.9228354813648125,\n",
       "  2.8837099032022375,\n",
       "  2.8446823357240616,\n",
       "  2.811908875639609,\n",
       "  2.7846442102627336,\n",
       "  2.762688104917262,\n",
       "  2.731380363252987,\n",
       "  2.7039989619526676,\n",
       "  2.690528110042041,\n",
       "  2.6642002684533845,\n",
       "  2.6416996978518203,\n",
       "  2.6247361572599552,\n",
       "  2.606627853764486,\n",
       "  2.5880985381013764,\n",
       "  2.5728617105982825,\n",
       "  2.5608394899002684,\n",
       "  2.548003729392926,\n",
       "  2.530838892583094,\n",
       "  2.521717793079668,\n",
       "  2.5037199425508603,\n",
       "  2.4949863153863503,\n",
       "  2.475650578205322,\n",
       "  2.471918516197542,\n",
       "  2.4635594793308155,\n",
       "  2.447120195032369,\n",
       "  2.4395381607255193,\n",
       "  2.425571841999701,\n",
       "  2.4179221038472,\n",
       "  2.4174162296521335,\n",
       "  2.405632446553421,\n",
       "  2.399423226092,\n",
       "  2.3893592530815533,\n",
       "  2.3802513045293656,\n",
       "  2.371172413255383,\n",
       "  2.3677215829651197,\n",
       "  2.3560639341740104,\n",
       "  2.355519806026913,\n",
       "  2.3550830261873457]}"
      ]
     },
     "execution_count": 36,
     "metadata": {},
     "output_type": "execute_result"
    }
   ],
   "source": [
    "history.history"
   ]
  },
  {
   "cell_type": "code",
   "execution_count": 33,
   "metadata": {},
   "outputs": [],
   "source": [
    "time = datetime.now()\n",
    "timestampStr = time.strftime(\"%d %b %Y %H %M %S %f)\")"
   ]
  },
  {
   "cell_type": "code",
   "execution_count": 38,
   "metadata": {},
   "outputs": [
    {
     "ename": "KeyError",
     "evalue": "'acc'",
     "output_type": "error",
     "traceback": [
      "\u001b[1;31m---------------------------------------------------------------------------\u001b[0m",
      "\u001b[1;31mKeyError\u001b[0m                                  Traceback (most recent call last)",
      "\u001b[1;32m<ipython-input-38-f5994490d6c5>\u001b[0m in \u001b[0;36m<module>\u001b[1;34m\u001b[0m\n\u001b[0;32m      1\u001b[0m \u001b[0mtime\u001b[0m \u001b[1;33m=\u001b[0m \u001b[0mdatetime\u001b[0m\u001b[1;33m.\u001b[0m\u001b[0mnow\u001b[0m\u001b[1;33m(\u001b[0m\u001b[1;33m)\u001b[0m\u001b[1;33m\u001b[0m\u001b[1;33m\u001b[0m\u001b[0m\n\u001b[0;32m      2\u001b[0m \u001b[0mtimestampStr\u001b[0m \u001b[1;33m=\u001b[0m \u001b[0mtime\u001b[0m\u001b[1;33m.\u001b[0m\u001b[0mstrftime\u001b[0m\u001b[1;33m(\u001b[0m\u001b[1;34m\"%d %b %Y %H %M %S %f)\"\u001b[0m\u001b[1;33m)\u001b[0m\u001b[1;33m\u001b[0m\u001b[1;33m\u001b[0m\u001b[0m\n\u001b[1;32m----> 3\u001b[1;33m \u001b[0mplt\u001b[0m\u001b[1;33m.\u001b[0m\u001b[0mplot\u001b[0m\u001b[1;33m(\u001b[0m\u001b[0mhistory\u001b[0m\u001b[1;33m.\u001b[0m\u001b[0mhistory\u001b[0m\u001b[1;33m[\u001b[0m\u001b[1;34m'acc'\u001b[0m\u001b[1;33m]\u001b[0m\u001b[1;33m)\u001b[0m\u001b[1;33m\u001b[0m\u001b[1;33m\u001b[0m\u001b[0m\n\u001b[0m\u001b[0;32m      4\u001b[0m \u001b[0mplt\u001b[0m\u001b[1;33m.\u001b[0m\u001b[0mplot\u001b[0m\u001b[1;33m(\u001b[0m\u001b[0mhistory\u001b[0m\u001b[1;33m.\u001b[0m\u001b[0mhistory\u001b[0m\u001b[1;33m[\u001b[0m\u001b[1;34m'val_acc'\u001b[0m\u001b[1;33m]\u001b[0m\u001b[1;33m)\u001b[0m\u001b[1;33m\u001b[0m\u001b[1;33m\u001b[0m\u001b[0m\n\u001b[0;32m      5\u001b[0m \u001b[0mplt\u001b[0m\u001b[1;33m.\u001b[0m\u001b[0mtitle\u001b[0m\u001b[1;33m(\u001b[0m\u001b[1;34m'model accuracy'\u001b[0m\u001b[1;33m)\u001b[0m\u001b[1;33m\u001b[0m\u001b[1;33m\u001b[0m\u001b[0m\n",
      "\u001b[1;31mKeyError\u001b[0m: 'acc'"
     ]
    }
   ],
   "source": [
    "'''\n",
    "time = datetime.now()\n",
    "timestampStr = time.strftime(\"%d %b %Y %H %M %S %f)\")\n",
    "plt.plot(history.history['accuracy'])\n",
    "plt.plot(history.history['val_accuracy'])\n",
    "plt.title('model accuracy')\n",
    "plt.ylabel('accuracy')\n",
    "plt.xlabel('epoch')\n",
    "plt.legend(['train', 'test'], loc='upper left')\n",
    "plt\n",
    "'''"
   ]
  },
  {
   "cell_type": "code",
   "execution_count": 35,
   "metadata": {},
   "outputs": [
    {
     "data": {
      "text/plain": [
       "<module 'matplotlib.pyplot' from 'c:\\\\users\\\\t-gamer\\\\documents\\\\git\\\\projetointeligenciaartificialsistemasugestao\\\\gpuvenv\\\\lib\\\\site-packages\\\\matplotlib\\\\pyplot.py'>"
      ]
     },
     "execution_count": 35,
     "metadata": {},
     "output_type": "execute_result"
    },
    {
     "data": {
      "image/png": "[encoded data removed]",
      "text/plain": [
       "<Figure size 432x288 with 1 Axes>"
      ]
     },
     "metadata": {
      "image/png": {
       "height": 277,
       "width": 393
      },
      "needs_background": "light"
     },
     "output_type": "display_data"
    }
   ],
   "source": [
    "\n",
    "plt.plot(history.history['loss'])\n",
    "plt.plot(history.history['val_loss'])\n",
    "plt.title('model loss')\n",
    "plt.ylabel('loss')\n",
    "plt.xlabel('epoch')\n",
    "plt.legend(['train', 'test'], loc='upper left')\n",
    "plt.savefig(\"loss\"+timestampStr+\".png\")\n",
    "plt"
   ]
  },
  {
   "cell_type": "code",
   "execution_count": 20,
   "metadata": {},
   "outputs": [],
   "source": [
    "#loading best model\n",
    "from keras.models import load_model\n",
    "model = load_model('best_model.h5')"
   ]
  },
  {
   "cell_type": "code",
   "execution_count": 23,
   "metadata": {},
   "outputs": [
    {
     "name": "stdout",
     "output_type": "stream",
     "text": [
      "[153, 132, 64, 90, 153, 132, 153, 132, 153, 27]\n"
     ]
    }
   ],
   "source": [
    "import random\n",
    "ind = np.random.randint(0,len(x_val)-1)\n",
    "\n",
    "random_music = x_val[ind]\n",
    "\n",
    "predictions=[]\n",
    "for i in range(10):\n",
    "\n",
    "    random_music = random_music.reshape(1,no_of_timesteps)\n",
    "\n",
    "    prob  = model.predict(random_music)[0]\n",
    "    y_pred= np.argmax(prob,axis=0)\n",
    "    predictions.append(y_pred)\n",
    "\n",
    "    random_music = np.insert(random_music[0],len(random_music[0]),y_pred)\n",
    "    random_music = random_music[1:]\n",
    "    \n",
    "print(predictions)"
   ]
  },
  {
   "cell_type": "code",
   "execution_count": 25,
   "metadata": {},
   "outputs": [],
   "source": [
    "x_int_to_note = dict((number, note_) for number, note_ in enumerate(unique_x)) \n",
    "predicted_notes = [x_int_to_note[i] for i in predictions]"
   ]
  },
  {
   "cell_type": "code",
   "execution_count": 22,
   "metadata": {},
   "outputs": [],
   "source": [
    "def convert_to_midi(prediction_output):\n",
    "   \n",
    "    offset = 0\n",
    "    output_notes = []\n",
    "\n",
    "    # create note and chord objects based on the values generated by the model\n",
    "    for pattern in prediction_output:\n",
    "        \n",
    "        # pattern is a chord\n",
    "        if ('.' in pattern) or pattern.isdigit():\n",
    "            notes_in_chord = pattern.split('.')\n",
    "            notes = []\n",
    "            for current_note in notes_in_chord:\n",
    "                \n",
    "                cn=int(current_note)\n",
    "                new_note = note.Note(cn)\n",
    "                new_note.storedInstrument = instrument.Piano()\n",
    "                notes.append(new_note)\n",
    "                \n",
    "            new_chord = chord.Chord(notes)\n",
    "            new_chord.offset = offset\n",
    "            output_notes.append(new_chord)\n",
    "            \n",
    "        # pattern is a note\n",
    "        else:\n",
    "            \n",
    "            new_note = note.Note(pattern)\n",
    "            new_note.offset = offset\n",
    "            new_note.storedInstrument = instrument.Piano()\n",
    "            output_notes.append(new_note)\n",
    "\n",
    "        # increase offset each iteration so that notes do not stack\n",
    "        offset += 1\n",
    "    midi_stream = stream.Stream(output_notes)\n",
    "    midi_stream.write('midi', fp='music.mid')"
   ]
  },
  {
   "cell_type": "code",
   "execution_count": 26,
   "metadata": {},
   "outputs": [],
   "source": [
    "convert_to_midi(predicted_notes)"
   ]
  },
  {
   "cell_type": "code",
   "execution_count": null,
   "metadata": {},
   "outputs": [],
   "source": []
  }
 ],
 "metadata": {
  "kernelspec": {
   "display_name": "Python 3",
   "language": "python",
   "name": "python3"
  },
  "language_info": {
   "codemirror_mode": {
    "name": "ipython",
    "version": 3
   },
   "file_extension": ".py",
   "mimetype": "text/x-python",
   "name": "python",
   "nbconvert_exporter": "python",
   "pygments_lexer": "ipython3",
   "version": "3.6.8"
  }
 },
 "nbformat": 4,
 "nbformat_minor": 2
}
