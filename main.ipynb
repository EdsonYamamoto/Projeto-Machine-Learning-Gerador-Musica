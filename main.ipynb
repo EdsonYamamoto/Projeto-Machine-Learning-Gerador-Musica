{
 "cells": [
  {
   "cell_type": "code",
   "execution_count": 42,
   "metadata": {},
   "outputs": [],
   "source": [
    "from music21 import instrument, converter, note, chord, stream\n",
    "import music21\n",
    "from datetime import datetime\n",
    "\n",
    "from keras.layers import *\n",
    "from keras.models import *\n",
    "from keras.callbacks import *\n",
    "import keras.backend as K\n",
    "\n",
    "import os\n",
    "import numpy as np\n",
    "from sklearn.model_selection import train_test_split\n",
    "\n",
    "import random\n",
    "from keras.models import load_model\n",
    "\n",
    "import math\n",
    "\n"
   ]
  },
  {
   "cell_type": "code",
   "execution_count": 2,
   "metadata": {},
   "outputs": [],
   "source": [
    "music21.environment.set('musescoreDirectPNGPath', 'C:\\\\Program Files\\\\MuseScore 3\\\\bin\\\\MuseScore3.exe')\n",
    "music21.environment.set('musicxmlPath', 'C:\\\\Program Files\\\\MuseScore 3\\\\bin\\\\MuseScore3.exe')\n"
   ]
  },
  {
   "cell_type": "code",
   "execution_count": 68,
   "metadata": {},
   "outputs": [
    {
     "name": "stdout",
     "output_type": "stream",
     "text": [
      "\n",
      "______________________________________________________________________________ \n",
      "  \n",
      "Welcome the music21 Configuration Assistant. You will be guided through a \n",
      "number of questions to install and setup music21. Simply pressing return at a \n",
      "prompt will select a default, if available. \n",
      "\n",
      "You may run this configuration again at a later time by running \n",
      "music21/configure.py. \n",
      "  \n",
      "______________________________________________________________________________ \n",
      "  \n",
      "The BSD-licensed music21 software is distributed with a corpus of encoded \n",
      "compositions which are distributed with the permission of the encoders (and, \n",
      "where needed, the composers or arrangers) and where permitted under United \n",
      "States copyright law. Some encodings included in the corpus may not be used \n",
      "for commercial uses or have other restrictions: please see the licenses \n",
      "embedded in individual compositions or directories for more details. \n",
      "  \n",
      "In addition to the corpus distributed with music21, other pieces are not \n",
      "included in this distribution, but are indexed as links to other web sites \n",
      "where they can be downloaded (the \"virtual corpus\"). If you would like, \n",
      "music21 can help your computer automatically resolve these links and bring \n",
      "them to your hard drive for analysis. \n",
      "To the best of our knowledge, the music (if not the encodings) in the corpus \n",
      "are either out of copyright in the United States and/or are licensed for non- \n",
      "commercial use. These works, along with any works linked to in the virtual \n",
      "corpus, may or may not be free in your jurisdiction. If you believe this \n",
      "message to be in error regarding one or more works please contact Michael \n",
      "Cuthbert at cuthbert@mit.edu. \n",
      "  \n",
      "Would you like to: \n",
      "[1] Acknowledge these terms and allow music21 to aid in finding pieces in the \n",
      "corpus \n",
      "[2] Acknowledge these terms and block the virtual corpus \n",
      "[3] Do not agree to these terms and will not use music21 (agreeing to the \n",
      "terms of the corpus is mandatory for using the system). \n",
      "  \n",
      "Select a number from the preceding options (default is 1): 1\n",
      "\n",
      "No action taken. \n",
      "  \n",
      "______________________________________________________________________________ \n",
      "  \n",
      "Would you like to send a pre-formatted email to music21 regarding your \n",
      "installation? Installation reports help us make music21 work better for you: \n",
      "Enter Yes or No (default is Yes): No\n",
      "\n",
      "______________________________________________________________________________ \n",
      "  \n",
      "The music21 discussion group provides a forum for asking questions and getting \n",
      "help. Would you like to see the music21 discussion list or sign up for \n",
      "updates? Enter Yes or No (default is Yes): No\n",
      "\n",
      "______________________________________________________________________________ \n",
      "  \n",
      "Would you like to view the music21 documentation in a web browser? Enter Yes \n",
      "or No (default is Yes): No\n",
      "\n",
      "______________________________________________________________________________ \n",
      "  \n",
      "The music21 Configuration Assistant is complete. Press return to continue. \n"
     ]
    }
   ],
   "source": [
    "\n",
    "music21.configure.run()"
   ]
  },
  {
   "cell_type": "code",
   "execution_count": 48,
   "metadata": {},
   "outputs": [],
   "source": [
    "checkpoint =\"weights-improvement-{epoch:02d}-{loss:.4f}-bigger.hdf5\"\n",
    "\n",
    "\n",
    "#specify the path\n",
    "pathData='schubert/'\n",
    "BATCH_SIZE = 256\n",
    "nEpocas = 100\n",
    "steps_per_epoch = 10\n",
    "VALIDATION_SIZE = 1\n"
   ]
  },
  {
   "cell_type": "code",
   "execution_count": 49,
   "metadata": {},
   "outputs": [],
   "source": [
    "#defining function to read MIDI files\n",
    "def read_midi(file):\n",
    "    \n",
    "    print(\"Loading Music File:\",file)\n",
    "    \n",
    "    notes=[]\n",
    "    notes_to_parse = None\n",
    "    \n",
    "    #parsing a midi file\n",
    "    midi = converter.parse(file)\n",
    "  \n",
    "    #grouping based on different instruments\n",
    "    s2 = instrument.partitionByInstrument(midi)\n",
    "\n",
    "    #Looping over all the instruments\n",
    "    for part in s2.parts:\n",
    "    \n",
    "        #select elements of only piano\n",
    "        if 'Piano' in str(part): \n",
    "        \n",
    "            notes_to_parse = part.recurse() \n",
    "      \n",
    "            #finding whether a particular element is note or a chord\n",
    "            for element in notes_to_parse:\n",
    "                \n",
    "                #note\n",
    "                if isinstance(element, note.Note):\n",
    "                    notes.append(str(element.pitch))\n",
    "                \n",
    "                #chord\n",
    "                elif isinstance(element, chord.Chord):\n",
    "                    notes.append('.'.join(str(n) for n in element.normalOrder))\n",
    "\n",
    "    return np.array(notes)"
   ]
  },
  {
   "cell_type": "code",
   "execution_count": 10,
   "metadata": {},
   "outputs": [
    {
     "name": "stdout",
     "output_type": "stream",
     "text": [
      "Loading Music File: schubert/schubert_D850_1.mid\n",
      "Loading Music File: schubert/schubert_D850_2.mid\n",
      "Loading Music File: schubert/schubert_D850_3.mid\n",
      "Loading Music File: schubert/schubert_D850_4.mid\n",
      "Loading Music File: schubert/schubert_D935_1.mid\n",
      "Loading Music File: schubert/schubert_D935_2.mid\n",
      "Loading Music File: schubert/schubert_D935_3.mid\n",
      "Loading Music File: schubert/schubert_D935_4.mid\n",
      "Loading Music File: schubert/schub_d760_1.mid\n",
      "Loading Music File: schubert/schub_d760_2.mid\n",
      "Loading Music File: schubert/schub_d760_3.mid\n",
      "Loading Music File: schubert/schub_d760_4.mid\n",
      "Loading Music File: schubert/schub_d960_1.mid\n",
      "Loading Music File: schubert/schub_d960_2.mid\n",
      "Loading Music File: schubert/schub_d960_3.mid\n",
      "Loading Music File: schubert/schub_d960_4.mid\n",
      "Loading Music File: schubert/schuim-1.mid\n",
      "Loading Music File: schubert/schuim-2.mid\n",
      "Loading Music File: schubert/schuim-3.mid\n",
      "Loading Music File: schubert/schuim-4.mid\n",
      "Loading Music File: schubert/schumm-1.mid\n",
      "Loading Music File: schubert/schumm-2.mid\n",
      "Loading Music File: schubert/schumm-3.mid\n",
      "Loading Music File: schubert/schumm-4.mid\n",
      "Loading Music File: schubert/schumm-5.mid\n",
      "Loading Music File: schubert/schumm-6.mid\n",
      "Loading Music File: schubert/schu_143_1.mid\n",
      "Loading Music File: schubert/schu_143_2.mid\n",
      "Loading Music File: schubert/schu_143_3.mid\n"
     ]
    }
   ],
   "source": [
    "\n",
    "\n",
    "#read all the filenames\n",
    "files=[i for i in os.listdir(pathData) if i.endswith(\".mid\")]\n",
    "\n",
    "#reading each midi file\n",
    "notes_array = np.array([read_midi(pathData+i) for i in files])"
   ]
  },
  {
   "cell_type": "code",
   "execution_count": 11,
   "metadata": {},
   "outputs": [
    {
     "name": "stdout",
     "output_type": "stream",
     "text": [
      "304\n"
     ]
    }
   ],
   "source": [
    "#converting 2D array into 1D array\n",
    "notes_ = [element for note_ in notes_array for element in note_]\n",
    "\n",
    "#No. of unique notes\n",
    "unique_notes = list(set(notes_))\n",
    "print(len(unique_notes))"
   ]
  },
  {
   "cell_type": "code",
   "execution_count": 12,
   "metadata": {},
   "outputs": [
    {
     "data": {
      "text/plain": [
       "(array([187.,  40.,  27.,  11.,   6.,   9.,  12.,   6.,   3.,   3.]),\n",
       " array([1.0000e+00, 1.4810e+02, 2.9520e+02, 4.4230e+02, 5.8940e+02,\n",
       "        7.3650e+02, 8.8360e+02, 1.0307e+03, 1.1778e+03, 1.3249e+03,\n",
       "        1.4720e+03]),\n",
       " <a list of 10 Patch objects>)"
      ]
     },
     "execution_count": 12,
     "metadata": {},
     "output_type": "execute_result"
    },
    {
     "data": {
      "image/png": "[encoded data removed]",
      "text/plain": [
       "<Figure size 360x360 with 1 Axes>"
      ]
     },
     "metadata": {
      "image/png": {
       "height": 304,
       "width": 321
      },
      "needs_background": "light"
     },
     "output_type": "display_data"
    }
   ],
   "source": [
    "#importing library\n",
    "from collections import Counter\n",
    "\n",
    "#computing frequency of each note\n",
    "freq = dict(Counter(notes_))\n",
    "\n",
    "#library for visualiation\n",
    "import matplotlib.pyplot as plt\n",
    "\n",
    "#consider only the frequencies\n",
    "no=[count for _,count in freq.items()]\n",
    "\n",
    "#set the figure size\n",
    "plt.figure(figsize=(5,5))\n",
    "\n",
    "#plot\n",
    "plt.hist(no)"
   ]
  },
  {
   "cell_type": "code",
   "execution_count": 13,
   "metadata": {},
   "outputs": [
    {
     "name": "stdout",
     "output_type": "stream",
     "text": [
      "167\n"
     ]
    }
   ],
   "source": [
    "frequent_notes = [note_ for note_, count in freq.items() if count>=50]\n",
    "print(len(frequent_notes))"
   ]
  },
  {
   "cell_type": "code",
   "execution_count": 14,
   "metadata": {},
   "outputs": [],
   "source": [
    "new_music=[]\n",
    "\n",
    "for notes in notes_array:\n",
    "    temp=[]\n",
    "    for note_ in notes:\n",
    "        if note_ in frequent_notes:\n",
    "            temp.append(note_)            \n",
    "    new_music.append(temp)\n",
    "    \n",
    "new_music = np.array(new_music)"
   ]
  },
  {
   "cell_type": "code",
   "execution_count": 50,
   "metadata": {},
   "outputs": [],
   "source": [
    "no_of_timesteps = 32\n",
    "x = []\n",
    "y = []\n",
    "\n",
    "for note_ in new_music:\n",
    "    for i in range(0, len(note_) - no_of_timesteps, 1):\n",
    "        \n",
    "        #preparing input and output sequences\n",
    "        input_ = note_[i:i + no_of_timesteps]\n",
    "        output = note_[i + no_of_timesteps]\n",
    "        \n",
    "        x.append(input_)\n",
    "        y.append(output)\n",
    "        \n",
    "x=np.array(x)\n",
    "y=np.array(y)"
   ]
  },
  {
   "cell_type": "code",
   "execution_count": 51,
   "metadata": {},
   "outputs": [],
   "source": [
    "unique_x = list(set(x.ravel()))\n",
    "x_note_to_int = dict((note_, number) for number, note_ in enumerate(unique_x))"
   ]
  },
  {
   "cell_type": "code",
   "execution_count": 52,
   "metadata": {},
   "outputs": [],
   "source": [
    "#preparing input sequences\n",
    "x_seq=[]\n",
    "for i in x:\n",
    "    temp=[]\n",
    "    for j in i:\n",
    "        #assigning unique integer to every note\n",
    "        temp.append(x_note_to_int[j])\n",
    "    x_seq.append(temp)\n",
    "    \n",
    "x_seq = np.array(x_seq)"
   ]
  },
  {
   "cell_type": "code",
   "execution_count": 53,
   "metadata": {},
   "outputs": [],
   "source": [
    "unique_y = list(set(y))\n",
    "y_note_to_int = dict((note_, number) for number, note_ in enumerate(unique_y)) \n",
    "y_seq=np.array([y_note_to_int[i] for i in y])"
   ]
  },
  {
   "cell_type": "code",
   "execution_count": 54,
   "metadata": {},
   "outputs": [],
   "source": [
    "\n",
    "x_tr, x_val, y_tr, y_val = train_test_split(x_seq,y_seq,test_size=0.2,random_state=0)"
   ]
  },
  {
   "cell_type": "code",
   "execution_count": 55,
   "metadata": {},
   "outputs": [],
   "source": [
    "def lstm():\n",
    "    model = Sequential()\n",
    "    model.add(Embedding(len(unique_x), 100, input_length=32,trainable=True)) \n",
    "    model.add(LSTM(128,return_sequences=True))\n",
    "    model.add(LSTM(128))\n",
    "    model.add(Dense(256, activation='relu'))\n",
    "    model.add(Dense(len(unique_y), activation='softmax'))\n",
    "    model.compile(loss='sparse_categorical_crossentropy', optimizer='adam',  metrics = ['accuracy'])\n",
    "    return model"
   ]
  },
  {
   "cell_type": "code",
   "execution_count": 56,
   "metadata": {},
   "outputs": [],
   "source": [
    "def conv():\n",
    "    model = Sequential()\n",
    "\n",
    "    #embedding layer\n",
    "    model.add(Embedding(len(unique_x), 100, input_length=32,trainable=True)) \n",
    "\n",
    "    model.add(Conv1D(64,3, padding='causal',activation='relu'))\n",
    "    model.add(Dropout(0.2))\n",
    "    model.add(MaxPool1D(2))\n",
    "\n",
    "    model.add(Conv1D(128,3,activation='relu',dilation_rate=2,padding='causal'))\n",
    "    model.add(Dropout(0.2))\n",
    "    model.add(MaxPool1D(2))\n",
    "\n",
    "    model.add(Conv1D(256,3,activation='relu',dilation_rate=4,padding='causal'))\n",
    "    model.add(Dropout(0.2))\n",
    "    model.add(MaxPool1D(2))\n",
    " \n",
    "    model.add(GlobalMaxPool1D())\n",
    "\n",
    "    model.add(Dense(256, activation='relu'))\n",
    "    model.add(Dense(len(unique_y), activation='softmax'))\n",
    "\n",
    "    model.compile(loss='sparse_categorical_crossentropy', optimizer='adam', metrics = ['accuracy'])\n",
    "    return model\n"
   ]
  },
  {
   "cell_type": "code",
   "execution_count": 63,
   "metadata": {},
   "outputs": [],
   "source": [
    "mc = ModelCheckpoint(checkpoint, monitor='val_loss', mode='min', save_best_only=True,verbose=1)\n",
    "es = EarlyStopping(monitor='val_loss', mode='min', verbose=1, patience=10, min_delta=0.001)\n"
   ]
  },
  {
   "cell_type": "code",
   "execution_count": 27,
   "metadata": {},
   "outputs": [
    {
     "data": {
      "text/plain": [
       "1"
      ]
     },
     "execution_count": 27,
     "metadata": {},
     "output_type": "execute_result"
    }
   ],
   "source": [
    "\n",
    "compute_steps_per_epoch = lambda x: int(math.ceil(1. * x / BATCH_SIZE))\n",
    "val_steps = compute_steps_per_epoch(VALIDATION_SIZE)\n",
    "val_steps"
   ]
  },
  {
   "cell_type": "markdown",
   "metadata": {},
   "source": [
    "# LSTM Training"
   ]
  },
  {
   "cell_type": "code",
   "execution_count": 60,
   "metadata": {},
   "outputs": [
    {
     "name": "stdout",
     "output_type": "stream",
     "text": [
      "_________________________________________________________________\n",
      "Layer (type)                 Output Shape              Param #   \n",
      "=================================================================\n",
      "embedding_1 (Embedding)      (None, 32, 100)           16700     \n",
      "_________________________________________________________________\n",
      "lstm_1 (LSTM)                (None, 32, 128)           117248    \n",
      "_________________________________________________________________\n",
      "lstm_2 (LSTM)                (None, 128)               131584    \n",
      "_________________________________________________________________\n",
      "dense_1 (Dense)              (None, 256)               33024     \n",
      "_________________________________________________________________\n",
      "dense_2 (Dense)              (None, 167)               42919     \n",
      "=================================================================\n",
      "Total params: 341,475\n",
      "Trainable params: 341,475\n",
      "Non-trainable params: 0\n",
      "_________________________________________________________________\n"
     ]
    }
   ],
   "source": [
    "\n",
    "K.clear_session()\n",
    "model = lstm()\n",
    "model.summary()"
   ]
  },
  {
   "cell_type": "code",
   "execution_count": 61,
   "metadata": {},
   "outputs": [
    {
     "data": {
      "text/plain": [
       "'\\nhistory = model.fit(\\n    np.array(x_tr),\\n    np.array(y_tr),\\n    epochs=nEpocas, \\n    steps_per_epoch=steps_per_epoch, \\n    validation_steps=val_steps,\\n    validation_data=(np.array(x_val),np.array(y_val)),\\n    verbose=1, \\n    callbacks=[es, mc])\\n'"
      ]
     },
     "execution_count": 61,
     "metadata": {},
     "output_type": "execute_result"
    }
   ],
   "source": [
    "'''\n",
    "history = model.fit(\n",
    "    np.array(x_tr),\n",
    "    np.array(y_tr),\n",
    "    epochs=nEpocas, \n",
    "    steps_per_epoch=steps_per_epoch, \n",
    "    validation_steps=val_steps,\n",
    "    validation_data=(np.array(x_val),np.array(y_val)),\n",
    "    verbose=1, \n",
    "    callbacks=[es, mc])\n",
    "'''"
   ]
  },
  {
   "cell_type": "code",
   "execution_count": 64,
   "metadata": {},
   "outputs": [
    {
     "name": "stdout",
     "output_type": "stream",
     "text": [
      "Train on 51544 samples, validate on 12886 samples\n",
      "Epoch 1/100\n",
      "51544/51544 [==============================] - 22s 418us/step - loss: 4.0369 - acc: 0.0798 - val_loss: 3.8028 - val_acc: 0.1005\n",
      "\n",
      "Epoch 00001: val_loss improved from inf to 3.80278, saving model to weights-improvement-01-4.0369-bigger.hdf5\n",
      "Epoch 2/100\n",
      "51544/51544 [==============================] - 22s 419us/step - loss: 3.7217 - acc: 0.1139 - val_loss: 3.6209 - val_acc: 0.1277\n",
      "\n",
      "Epoch 00002: val_loss improved from 3.80278 to 3.62092, saving model to weights-improvement-02-3.7217-bigger.hdf5\n",
      "Epoch 3/100\n",
      "51544/51544 [==============================] - 21s 409us/step - loss: 3.5501 - acc: 0.1330 - val_loss: 3.4888 - val_acc: 0.1402\n",
      "\n",
      "Epoch 00003: val_loss improved from 3.62092 to 3.48878, saving model to weights-improvement-03-3.5501-bigger.hdf5\n",
      "Epoch 4/100\n",
      "51544/51544 [==============================] - 21s 408us/step - loss: 3.4086 - acc: 0.1496 - val_loss: 3.3767 - val_acc: 0.1524\n",
      "\n",
      "Epoch 00004: val_loss improved from 3.48878 to 3.37672, saving model to weights-improvement-04-3.4086-bigger.hdf5\n",
      "Epoch 5/100\n",
      "51544/51544 [==============================] - 21s 407us/step - loss: 3.2791 - acc: 0.1665 - val_loss: 3.2944 - val_acc: 0.1619\n",
      "\n",
      "Epoch 00005: val_loss improved from 3.37672 to 3.29436, saving model to weights-improvement-05-3.2791-bigger.hdf5\n",
      "Epoch 6/100\n",
      "51544/51544 [==============================] - 21s 408us/step - loss: 3.1573 - acc: 0.1812 - val_loss: 3.2154 - val_acc: 0.1752\n",
      "\n",
      "Epoch 00006: val_loss improved from 3.29436 to 3.21537, saving model to weights-improvement-06-3.1573-bigger.hdf5\n",
      "Epoch 7/100\n",
      "51544/51544 [==============================] - 21s 412us/step - loss: 3.0401 - acc: 0.1996 - val_loss: 3.1315 - val_acc: 0.1883\n",
      "\n",
      "Epoch 00007: val_loss improved from 3.21537 to 3.13150, saving model to weights-improvement-07-3.0401-bigger.hdf5\n",
      "Epoch 8/100\n",
      "51544/51544 [==============================] - 21s 417us/step - loss: 2.9160 - acc: 0.2254 - val_loss: 3.0521 - val_acc: 0.2032\n",
      "\n",
      "Epoch 00008: val_loss improved from 3.13150 to 3.05211, saving model to weights-improvement-08-2.9160-bigger.hdf5\n",
      "Epoch 9/100\n",
      "51544/51544 [==============================] - 22s 420us/step - loss: 2.7939 - acc: 0.2469 - val_loss: 2.9856 - val_acc: 0.2141\n",
      "\n",
      "Epoch 00009: val_loss improved from 3.05211 to 2.98557, saving model to weights-improvement-09-2.7939-bigger.hdf5\n",
      "Epoch 10/100\n",
      "51544/51544 [==============================] - 22s 423us/step - loss: 2.6742 - acc: 0.2730 - val_loss: 2.9260 - val_acc: 0.2298\n",
      "\n",
      "Epoch 00010: val_loss improved from 2.98557 to 2.92605, saving model to weights-improvement-10-2.6742-bigger.hdf5\n",
      "Epoch 11/100\n",
      "51544/51544 [==============================] - 21s 410us/step - loss: 2.5494 - acc: 0.3016 - val_loss: 2.8629 - val_acc: 0.2555\n",
      "\n",
      "Epoch 00011: val_loss improved from 2.92605 to 2.86294, saving model to weights-improvement-11-2.5494-bigger.hdf5\n",
      "Epoch 12/100\n",
      "51544/51544 [==============================] - 22s 425us/step - loss: 2.4275 - acc: 0.3311 - val_loss: 2.8068 - val_acc: 0.2683\n",
      "\n",
      "Epoch 00012: val_loss improved from 2.86294 to 2.80675, saving model to weights-improvement-12-2.4275-bigger.hdf5\n",
      "Epoch 13/100\n",
      "51544/51544 [==============================] - 21s 413us/step - loss: 2.3103 - acc: 0.3615 - val_loss: 2.7651 - val_acc: 0.2848\n",
      "\n",
      "Epoch 00013: val_loss improved from 2.80675 to 2.76513, saving model to weights-improvement-13-2.3103-bigger.hdf5\n",
      "Epoch 14/100\n",
      "51544/51544 [==============================] - 22s 419us/step - loss: 2.1902 - acc: 0.3892 - val_loss: 2.7217 - val_acc: 0.3024\n",
      "\n",
      "Epoch 00014: val_loss improved from 2.76513 to 2.72167, saving model to weights-improvement-14-2.1902-bigger.hdf5\n",
      "Epoch 15/100\n",
      "51544/51544 [==============================] - 22s 420us/step - loss: 2.0750 - acc: 0.4217 - val_loss: 2.6842 - val_acc: 0.3157\n",
      "\n",
      "Epoch 00015: val_loss improved from 2.72167 to 2.68417, saving model to weights-improvement-15-2.0750-bigger.hdf5\n",
      "Epoch 16/100\n",
      "51544/51544 [==============================] - 21s 415us/step - loss: 1.9599 - acc: 0.4527 - val_loss: 2.6431 - val_acc: 0.3331\n",
      "\n",
      "Epoch 00016: val_loss improved from 2.68417 to 2.64305, saving model to weights-improvement-16-1.9599-bigger.hdf5\n",
      "Epoch 17/100\n",
      "51544/51544 [==============================] - 21s 414us/step - loss: 1.8478 - acc: 0.4849 - val_loss: 2.6000 - val_acc: 0.3505\n",
      "\n",
      "Epoch 00017: val_loss improved from 2.64305 to 2.60002, saving model to weights-improvement-17-1.8478-bigger.hdf5\n",
      "Epoch 18/100\n",
      "51544/51544 [==============================] - 21s 413us/step - loss: 1.7392 - acc: 0.5155 - val_loss: 2.5842 - val_acc: 0.3641\n",
      "\n",
      "Epoch 00018: val_loss improved from 2.60002 to 2.58419, saving model to weights-improvement-18-1.7392-bigger.hdf5\n",
      "Epoch 19/100\n",
      "51544/51544 [==============================] - 21s 411us/step - loss: 1.6437 - acc: 0.5393 - val_loss: 2.5733 - val_acc: 0.3706\n",
      "\n",
      "Epoch 00019: val_loss improved from 2.58419 to 2.57332, saving model to weights-improvement-19-1.6437-bigger.hdf5\n",
      "Epoch 20/100\n",
      "51544/51544 [==============================] - 21s 411us/step - loss: 1.5377 - acc: 0.5701 - val_loss: 2.5581 - val_acc: 0.3803\n",
      "\n",
      "Epoch 00020: val_loss improved from 2.57332 to 2.55806, saving model to weights-improvement-20-1.5377-bigger.hdf5\n",
      "Epoch 21/100\n",
      "51544/51544 [==============================] - 21s 411us/step - loss: 1.4463 - acc: 0.5959 - val_loss: 2.5317 - val_acc: 0.3945\n",
      "\n",
      "Epoch 00021: val_loss improved from 2.55806 to 2.53170, saving model to weights-improvement-21-1.4463-bigger.hdf5\n",
      "Epoch 22/100\n",
      "51544/51544 [==============================] - 21s 411us/step - loss: 1.3585 - acc: 0.6202 - val_loss: 2.5150 - val_acc: 0.4152\n",
      "\n",
      "Epoch 00022: val_loss improved from 2.53170 to 2.51502, saving model to weights-improvement-22-1.3585-bigger.hdf5\n",
      "Epoch 23/100\n",
      "51544/51544 [==============================] - 22s 422us/step - loss: 1.2747 - acc: 0.6451 - val_loss: 2.5267 - val_acc: 0.4161\n",
      "\n",
      "Epoch 00023: val_loss did not improve from 2.51502\n",
      "Epoch 24/100\n",
      "51544/51544 [==============================] - 21s 409us/step - loss: 1.1856 - acc: 0.6695 - val_loss: 2.5143 - val_acc: 0.4332\n",
      "\n",
      "Epoch 00024: val_loss improved from 2.51502 to 2.51430, saving model to weights-improvement-24-1.1856-bigger.hdf5\n",
      "Epoch 25/100\n",
      "51544/51544 [==============================] - 22s 425us/step - loss: 1.1077 - acc: 0.6923 - val_loss: 2.5269 - val_acc: 0.4414\n",
      "\n",
      "Epoch 00025: val_loss did not improve from 2.51430\n",
      "Epoch 26/100\n",
      "51544/51544 [==============================] - 22s 422us/step - loss: 1.0318 - acc: 0.7147 - val_loss: 2.5179 - val_acc: 0.4517\n",
      "\n",
      "Epoch 00026: val_loss did not improve from 2.51430\n",
      "Epoch 27/100\n",
      "51544/51544 [==============================] - 21s 402us/step - loss: 0.9687 - acc: 0.7311 - val_loss: 2.5224 - val_acc: 0.4671\n",
      "\n",
      "Epoch 00027: val_loss did not improve from 2.51430\n",
      "Epoch 28/100\n",
      "51544/51544 [==============================] - 21s 402us/step - loss: 0.8965 - acc: 0.7530 - val_loss: 2.5288 - val_acc: 0.4703\n",
      "\n",
      "Epoch 00028: val_loss did not improve from 2.51430\n",
      "Epoch 29/100\n",
      "51544/51544 [==============================] - 21s 405us/step - loss: 0.8349 - acc: 0.7709 - val_loss: 2.5472 - val_acc: 0.4829\n",
      "\n",
      "Epoch 00029: val_loss did not improve from 2.51430\n",
      "Epoch 30/100\n",
      "51544/51544 [==============================] - 21s 410us/step - loss: 0.7743 - acc: 0.7886 - val_loss: 2.5581 - val_acc: 0.4911\n",
      "\n",
      "Epoch 00030: val_loss did not improve from 2.51430\n",
      "Epoch 31/100\n",
      "51544/51544 [==============================] - 21s 414us/step - loss: 0.7228 - acc: 0.8013 - val_loss: 2.5864 - val_acc: 0.4960\n",
      "\n",
      "Epoch 00031: val_loss did not improve from 2.51430\n",
      "Epoch 32/100\n",
      "51544/51544 [==============================] - 21s 409us/step - loss: 0.6760 - acc: 0.8154 - val_loss: 2.6015 - val_acc: 0.5010\n",
      "\n",
      "Epoch 00032: val_loss did not improve from 2.51430\n",
      "Epoch 00032: early stopping\n"
     ]
    }
   ],
   "source": [
    "history = model.fit(\n",
    "    np.array(x_tr),\n",
    "    np.array(y_tr),\n",
    "    batch_size=BATCH_SIZE,\n",
    "    epochs=nEpocas, \n",
    "    validation_data=(np.array(x_val),np.array(y_val)),\n",
    "    verbose=1, \n",
    "    callbacks=[es, mc]\n",
    ")\n"
   ]
  },
  {
   "cell_type": "code",
   "execution_count": 65,
   "metadata": {},
   "outputs": [],
   "source": [
    "model.save_weights(\"modelConv.h5\")"
   ]
  },
  {
   "cell_type": "code",
   "execution_count": 66,
   "metadata": {},
   "outputs": [],
   "source": [
    "time = datetime.now()\n",
    "timestampStr = time.strftime(\"%d %b %Y %H %M %S %f)\")"
   ]
  },
  {
   "cell_type": "code",
   "execution_count": 67,
   "metadata": {},
   "outputs": [
    {
     "data": {
      "text/plain": [
       "<module 'matplotlib.pyplot' from 'c:\\\\users\\\\t-gamer\\\\documents\\\\git\\\\projetointeligenciaartificialsistemasugestao\\\\gpuvenv\\\\lib\\\\site-packages\\\\matplotlib\\\\pyplot.py'>"
      ]
     },
     "execution_count": 67,
     "metadata": {},
     "output_type": "execute_result"
    },
    {
     "data": {
      "image/png": "[encoded data removed]",
      "text/plain": [
       "<Figure size 432x288 with 1 Axes>"
      ]
     },
     "metadata": {
      "image/png": {
       "height": 277,
       "width": 387
      },
      "needs_background": "light"
     },
     "output_type": "display_data"
    }
   ],
   "source": [
    "time = datetime.now()\n",
    "timestampStr = time.strftime(\"%d %b %Y %H %M %S %f)\")\n",
    "plt.plot(history.history['acc'])\n",
    "plt.plot(history.history['val_acc'])\n",
    "plt.title('model accuracy')\n",
    "plt.ylabel('accuracy')\n",
    "plt.xlabel('epoch')\n",
    "plt.legend(['train', 'test'], loc='upper left')\n",
    "plt.savefig(\"accuracy\"+timestampStr+\".png\")\n",
    "plt"
   ]
  },
  {
   "cell_type": "code",
   "execution_count": 68,
   "metadata": {},
   "outputs": [
    {
     "data": {
      "text/plain": [
       "<module 'matplotlib.pyplot' from 'c:\\\\users\\\\t-gamer\\\\documents\\\\git\\\\projetointeligenciaartificialsistemasugestao\\\\gpuvenv\\\\lib\\\\site-packages\\\\matplotlib\\\\pyplot.py'>"
      ]
     },
     "execution_count": 68,
     "metadata": {},
     "output_type": "execute_result"
    },
    {
     "data": {
      "image/png": "[encoded data removed]",
      "text/plain": [
       "<Figure size 432x288 with 1 Axes>"
      ]
     },
     "metadata": {
      "image/png": {
       "height": 277,
       "width": 387
      },
      "needs_background": "light"
     },
     "output_type": "display_data"
    }
   ],
   "source": [
    "\n",
    "plt.plot(history.history['loss'])\n",
    "plt.plot(history.history['val_loss'])\n",
    "plt.title('model loss')\n",
    "plt.ylabel('loss')\n",
    "plt.xlabel('epoch')\n",
    "plt.legend(['train', 'test'], loc='upper left')\n",
    "plt.savefig(\"loss\"+timestampStr+\".png\")\n",
    "plt"
   ]
  },
  {
   "cell_type": "markdown",
   "metadata": {},
   "source": [
    "# Conv Training"
   ]
  },
  {
   "cell_type": "code",
   "execution_count": 70,
   "metadata": {},
   "outputs": [
    {
     "name": "stdout",
     "output_type": "stream",
     "text": [
      "_________________________________________________________________\n",
      "Layer (type)                 Output Shape              Param #   \n",
      "=================================================================\n",
      "embedding_1 (Embedding)      (None, 32, 100)           16700     \n",
      "_________________________________________________________________\n",
      "conv1d_1 (Conv1D)            (None, 32, 64)            19264     \n",
      "_________________________________________________________________\n",
      "dropout_1 (Dropout)          (None, 32, 64)            0         \n",
      "_________________________________________________________________\n",
      "max_pooling1d_1 (MaxPooling1 (None, 16, 64)            0         \n",
      "_________________________________________________________________\n",
      "conv1d_2 (Conv1D)            (None, 16, 128)           24704     \n",
      "_________________________________________________________________\n",
      "dropout_2 (Dropout)          (None, 16, 128)           0         \n",
      "_________________________________________________________________\n",
      "max_pooling1d_2 (MaxPooling1 (None, 8, 128)            0         \n",
      "_________________________________________________________________\n",
      "conv1d_3 (Conv1D)            (None, 8, 256)            98560     \n",
      "_________________________________________________________________\n",
      "dropout_3 (Dropout)          (None, 8, 256)            0         \n",
      "_________________________________________________________________\n",
      "max_pooling1d_3 (MaxPooling1 (None, 4, 256)            0         \n",
      "_________________________________________________________________\n",
      "conv1d_4 (Conv1D)            (None, 4, 512)            393728    \n",
      "_________________________________________________________________\n",
      "dropout_4 (Dropout)          (None, 4, 512)            0         \n",
      "_________________________________________________________________\n",
      "max_pooling1d_4 (MaxPooling1 (None, 2, 512)            0         \n",
      "_________________________________________________________________\n",
      "conv1d_5 (Conv1D)            (None, 2, 1024)           1573888   \n",
      "_________________________________________________________________\n",
      "dropout_5 (Dropout)          (None, 2, 1024)           0         \n",
      "_________________________________________________________________\n",
      "max_pooling1d_5 (MaxPooling1 (None, 1, 1024)           0         \n",
      "_________________________________________________________________\n",
      "global_max_pooling1d_1 (Glob (None, 1024)              0         \n",
      "_________________________________________________________________\n",
      "dense_1 (Dense)              (None, 1024)              1049600   \n",
      "_________________________________________________________________\n",
      "dense_2 (Dense)              (None, 512)               524800    \n",
      "_________________________________________________________________\n",
      "dense_3 (Dense)              (None, 256)               131328    \n",
      "_________________________________________________________________\n",
      "dense_4 (Dense)              (None, 167)               42919     \n",
      "=================================================================\n",
      "Total params: 3,875,491\n",
      "Trainable params: 3,875,491\n",
      "Non-trainable params: 0\n",
      "_________________________________________________________________\n"
     ]
    }
   ],
   "source": [
    "\n",
    "K.clear_session()\n",
    "model = conv()\n",
    "model.summary()"
   ]
  },
  {
   "cell_type": "code",
   "execution_count": 71,
   "metadata": {},
   "outputs": [
    {
     "name": "stdout",
     "output_type": "stream",
     "text": [
      "Train on 51544 samples, validate on 12886 samples\n",
      "Epoch 1/100\n",
      "51544/51544 [==============================] - 19s 368us/step - loss: 4.6345 - acc: 0.0232 - val_loss: 4.5265 - val_acc: 0.0323\n",
      "\n",
      "Epoch 00001: val_loss did not improve from 2.51430\n",
      "Epoch 2/100\n",
      "51544/51544 [==============================] - 5s 97us/step - loss: 4.4274 - acc: 0.0368 - val_loss: 4.3666 - val_acc: 0.0440\n",
      "\n",
      "Epoch 00002: val_loss did not improve from 2.51430\n",
      "Epoch 3/100\n",
      "51544/51544 [==============================] - 5s 95us/step - loss: 4.1956 - acc: 0.0562 - val_loss: 4.1797 - val_acc: 0.0605\n",
      "\n",
      "Epoch 00003: val_loss did not improve from 2.51430\n",
      "Epoch 4/100\n",
      "51544/51544 [==============================] - 5s 95us/step - loss: 4.0126 - acc: 0.0758 - val_loss: 4.1012 - val_acc: 0.0683\n",
      "\n",
      "Epoch 00004: val_loss did not improve from 2.51430\n",
      "Epoch 5/100\n",
      "51544/51544 [==============================] - 5s 96us/step - loss: 3.9104 - acc: 0.0863 - val_loss: 3.9789 - val_acc: 0.0892\n",
      "\n",
      "Epoch 00005: val_loss did not improve from 2.51430\n",
      "Epoch 6/100\n",
      "51544/51544 [==============================] - 5s 99us/step - loss: 3.8316 - acc: 0.0943 - val_loss: 3.8806 - val_acc: 0.0947\n",
      "\n",
      "Epoch 00006: val_loss did not improve from 2.51430\n",
      "Epoch 7/100\n",
      "51544/51544 [==============================] - 5s 104us/step - loss: 3.7714 - acc: 0.1020 - val_loss: 3.8088 - val_acc: 0.1034\n",
      "\n",
      "Epoch 00007: val_loss did not improve from 2.51430\n",
      "Epoch 8/100\n",
      "51544/51544 [==============================] - 5s 102us/step - loss: 3.7242 - acc: 0.1078 - val_loss: 3.7852 - val_acc: 0.1114\n",
      "\n",
      "Epoch 00008: val_loss did not improve from 2.51430\n",
      "Epoch 9/100\n",
      "51544/51544 [==============================] - 5s 99us/step - loss: 3.6731 - acc: 0.1150 - val_loss: 3.7357 - val_acc: 0.1167\n",
      "\n",
      "Epoch 00009: val_loss did not improve from 2.51430\n",
      "Epoch 10/100\n",
      "51544/51544 [==============================] - 5s 98us/step - loss: 3.6283 - acc: 0.1185 - val_loss: 3.6531 - val_acc: 0.1232\n",
      "\n",
      "Epoch 00010: val_loss did not improve from 2.51430\n",
      "Epoch 11/100\n",
      "51544/51544 [==============================] - 5s 95us/step - loss: 3.5729 - acc: 0.1260 - val_loss: 3.6160 - val_acc: 0.1285\n",
      "\n",
      "Epoch 00011: val_loss did not improve from 2.51430\n",
      "Epoch 12/100\n",
      "51544/51544 [==============================] - 5s 95us/step - loss: 3.5216 - acc: 0.1297 - val_loss: 3.6013 - val_acc: 0.1259\n",
      "\n",
      "Epoch 00012: val_loss did not improve from 2.51430\n",
      "Epoch 13/100\n",
      "51544/51544 [==============================] - 5s 95us/step - loss: 3.4718 - acc: 0.1384 - val_loss: 3.5624 - val_acc: 0.1363\n",
      "\n",
      "Epoch 00013: val_loss did not improve from 2.51430\n",
      "Epoch 14/100\n",
      "51544/51544 [==============================] - 5s 95us/step - loss: 3.4313 - acc: 0.1412 - val_loss: 3.5171 - val_acc: 0.1348\n",
      "\n",
      "Epoch 00014: val_loss did not improve from 2.51430\n",
      "Epoch 15/100\n",
      "51544/51544 [==============================] - 5s 95us/step - loss: 3.3928 - acc: 0.1451 - val_loss: 3.5038 - val_acc: 0.1396\n",
      "\n",
      "Epoch 00015: val_loss did not improve from 2.51430\n",
      "Epoch 16/100\n",
      "51544/51544 [==============================] - 5s 95us/step - loss: 3.3603 - acc: 0.1506 - val_loss: 3.4858 - val_acc: 0.1466\n",
      "\n",
      "Epoch 00016: val_loss did not improve from 2.51430\n",
      "Epoch 17/100\n",
      "51544/51544 [==============================] - 5s 95us/step - loss: 3.3228 - acc: 0.1529 - val_loss: 3.4090 - val_acc: 0.1565\n",
      "\n",
      "Epoch 00017: val_loss did not improve from 2.51430\n",
      "Epoch 18/100\n",
      "51544/51544 [==============================] - 5s 95us/step - loss: 3.2881 - acc: 0.1585 - val_loss: 3.3900 - val_acc: 0.1537\n",
      "\n",
      "Epoch 00018: val_loss did not improve from 2.51430\n",
      "Epoch 19/100\n",
      "51544/51544 [==============================] - 5s 95us/step - loss: 3.2590 - acc: 0.1630 - val_loss: 3.3477 - val_acc: 0.1658\n",
      "\n",
      "Epoch 00019: val_loss did not improve from 2.51430\n",
      "Epoch 20/100\n",
      "51544/51544 [==============================] - 5s 96us/step - loss: 3.2337 - acc: 0.1658 - val_loss: 3.3251 - val_acc: 0.1661\n",
      "\n",
      "Epoch 00020: val_loss did not improve from 2.51430\n",
      "Epoch 21/100\n",
      "51544/51544 [==============================] - 5s 96us/step - loss: 3.2090 - acc: 0.1698 - val_loss: 3.3613 - val_acc: 0.1621\n",
      "\n",
      "Epoch 00021: val_loss did not improve from 2.51430\n",
      "Epoch 22/100\n",
      "51544/51544 [==============================] - 5s 98us/step - loss: 3.1836 - acc: 0.1751 - val_loss: 3.3220 - val_acc: 0.1660\n",
      "\n",
      "Epoch 00022: val_loss did not improve from 2.51430\n",
      "Epoch 23/100\n",
      "51544/51544 [==============================] - 5s 98us/step - loss: 3.1547 - acc: 0.1770 - val_loss: 3.2935 - val_acc: 0.1713\n",
      "\n",
      "Epoch 00023: val_loss did not improve from 2.51430\n",
      "Epoch 24/100\n",
      "51544/51544 [==============================] - 5s 98us/step - loss: 3.1302 - acc: 0.1792 - val_loss: 3.2663 - val_acc: 0.1751\n",
      "\n",
      "Epoch 00024: val_loss did not improve from 2.51430\n",
      "Epoch 25/100\n",
      "51544/51544 [==============================] - 5s 100us/step - loss: 3.1114 - acc: 0.1833 - val_loss: 3.2750 - val_acc: 0.1752\n",
      "\n",
      "Epoch 00025: val_loss did not improve from 2.51430\n",
      "Epoch 26/100\n",
      "51544/51544 [==============================] - 5s 98us/step - loss: 3.0860 - acc: 0.1856 - val_loss: 3.2580 - val_acc: 0.1805\n",
      "\n",
      "Epoch 00026: val_loss did not improve from 2.51430\n",
      "Epoch 27/100\n",
      "51544/51544 [==============================] - 5s 101us/step - loss: 3.0623 - acc: 0.1879 - val_loss: 3.2337 - val_acc: 0.1812\n",
      "\n",
      "Epoch 00027: val_loss did not improve from 2.51430\n",
      "Epoch 28/100\n",
      "51544/51544 [==============================] - 5s 97us/step - loss: 3.0433 - acc: 0.1892 - val_loss: 3.1950 - val_acc: 0.1862\n",
      "\n",
      "Epoch 00028: val_loss did not improve from 2.51430\n",
      "Epoch 29/100\n",
      "51544/51544 [==============================] - 5s 98us/step - loss: 3.0264 - acc: 0.1933 - val_loss: 3.1830 - val_acc: 0.1831\n",
      "\n",
      "Epoch 00029: val_loss did not improve from 2.51430\n",
      "Epoch 30/100\n",
      "51544/51544 [==============================] - 5s 98us/step - loss: 2.9981 - acc: 0.2007 - val_loss: 3.1734 - val_acc: 0.1862\n",
      "\n",
      "Epoch 00030: val_loss did not improve from 2.51430\n",
      "Epoch 31/100\n",
      "51544/51544 [==============================] - 5s 98us/step - loss: 2.9778 - acc: 0.2006 - val_loss: 3.1592 - val_acc: 0.1894\n",
      "\n",
      "Epoch 00031: val_loss did not improve from 2.51430\n",
      "Epoch 32/100\n",
      "51544/51544 [==============================] - 5s 98us/step - loss: 2.9602 - acc: 0.2021 - val_loss: 3.1272 - val_acc: 0.1966\n",
      "\n",
      "Epoch 00032: val_loss did not improve from 2.51430\n",
      "Epoch 33/100\n",
      "51544/51544 [==============================] - 5s 98us/step - loss: 2.9370 - acc: 0.2082 - val_loss: 3.1059 - val_acc: 0.1960\n",
      "\n",
      "Epoch 00033: val_loss did not improve from 2.51430\n",
      "Epoch 34/100\n",
      "51544/51544 [==============================] - 5s 98us/step - loss: 2.9232 - acc: 0.2069 - val_loss: 3.0875 - val_acc: 0.2021\n",
      "\n",
      "Epoch 00034: val_loss did not improve from 2.51430\n",
      "Epoch 35/100\n",
      "51544/51544 [==============================] - 5s 98us/step - loss: 2.9093 - acc: 0.2131 - val_loss: 3.0858 - val_acc: 0.1968\n",
      "\n",
      "Epoch 00035: val_loss did not improve from 2.51430\n",
      "Epoch 36/100\n",
      "51544/51544 [==============================] - 5s 98us/step - loss: 2.8855 - acc: 0.2153 - val_loss: 3.0907 - val_acc: 0.1927\n",
      "\n",
      "Epoch 00036: val_loss did not improve from 2.51430\n",
      "Epoch 37/100\n",
      "51544/51544 [==============================] - 5s 97us/step - loss: 2.8687 - acc: 0.2168 - val_loss: 3.0307 - val_acc: 0.2074\n",
      "\n",
      "Epoch 00037: val_loss did not improve from 2.51430\n",
      "Epoch 38/100\n",
      "51544/51544 [==============================] - 5s 101us/step - loss: 2.8447 - acc: 0.2198 - val_loss: 3.0416 - val_acc: 0.2040\n",
      "\n",
      "Epoch 00038: val_loss did not improve from 2.51430\n",
      "Epoch 39/100\n",
      "51544/51544 [==============================] - 5s 101us/step - loss: 2.8333 - acc: 0.2194 - val_loss: 3.0244 - val_acc: 0.2057\n",
      "\n",
      "Epoch 00039: val_loss did not improve from 2.51430\n",
      "Epoch 40/100\n",
      "51544/51544 [==============================] - 5s 98us/step - loss: 2.8171 - acc: 0.2233 - val_loss: 3.0387 - val_acc: 0.2053\n",
      "\n",
      "Epoch 00040: val_loss did not improve from 2.51430\n",
      "Epoch 41/100\n",
      "51544/51544 [==============================] - 5s 96us/step - loss: 2.7975 - acc: 0.2255 - val_loss: 2.9965 - val_acc: 0.2155\n",
      "\n",
      "Epoch 00041: val_loss did not improve from 2.51430\n",
      "Epoch 42/100\n",
      "51544/51544 [==============================] - 5s 98us/step - loss: 2.7817 - acc: 0.2290 - val_loss: 3.0051 - val_acc: 0.2108\n",
      "\n",
      "Epoch 00042: val_loss did not improve from 2.51430\n",
      "Epoch 43/100\n",
      "51544/51544 [==============================] - 5s 100us/step - loss: 2.7674 - acc: 0.2300 - val_loss: 3.0041 - val_acc: 0.2115\n"
     ]
    },
    {
     "name": "stdout",
     "output_type": "stream",
     "text": [
      "\n",
      "Epoch 00043: val_loss did not improve from 2.51430\n",
      "Epoch 44/100\n",
      "51544/51544 [==============================] - 5s 98us/step - loss: 2.7516 - acc: 0.2327 - val_loss: 2.9708 - val_acc: 0.2127\n",
      "\n",
      "Epoch 00044: val_loss did not improve from 2.51430\n",
      "Epoch 45/100\n",
      "51544/51544 [==============================] - 5s 95us/step - loss: 2.7388 - acc: 0.2335 - val_loss: 2.9733 - val_acc: 0.2115\n",
      "\n",
      "Epoch 00045: val_loss did not improve from 2.51430\n",
      "Epoch 46/100\n",
      "51544/51544 [==============================] - 5s 96us/step - loss: 2.7251 - acc: 0.2356 - val_loss: 2.9154 - val_acc: 0.2226\n",
      "\n",
      "Epoch 00046: val_loss did not improve from 2.51430\n",
      "Epoch 47/100\n",
      "51544/51544 [==============================] - 5s 96us/step - loss: 2.7214 - acc: 0.2380 - val_loss: 2.9523 - val_acc: 0.2224\n",
      "\n",
      "Epoch 00047: val_loss did not improve from 2.51430\n",
      "Epoch 48/100\n",
      "51544/51544 [==============================] - 5s 96us/step - loss: 2.6954 - acc: 0.2419 - val_loss: 2.9323 - val_acc: 0.2173\n",
      "\n",
      "Epoch 00048: val_loss did not improve from 2.51430\n",
      "Epoch 49/100\n",
      "51544/51544 [==============================] - 5s 97us/step - loss: 2.6866 - acc: 0.2418 - val_loss: 2.9280 - val_acc: 0.2188\n",
      "\n",
      "Epoch 00049: val_loss did not improve from 2.51430\n",
      "Epoch 50/100\n",
      "51544/51544 [==============================] - 5s 102us/step - loss: 2.6656 - acc: 0.2441 - val_loss: 2.9217 - val_acc: 0.2217\n",
      "\n",
      "Epoch 00050: val_loss did not improve from 2.51430\n",
      "Epoch 51/100\n",
      "51544/51544 [==============================] - 5s 99us/step - loss: 2.6629 - acc: 0.2482 - val_loss: 2.8924 - val_acc: 0.2261\n",
      "\n",
      "Epoch 00051: val_loss did not improve from 2.51430\n",
      "Epoch 52/100\n",
      "51544/51544 [==============================] - 5s 96us/step - loss: 2.6385 - acc: 0.2504 - val_loss: 2.8960 - val_acc: 0.2201\n",
      "\n",
      "Epoch 00052: val_loss did not improve from 2.51430\n",
      "Epoch 53/100\n",
      "51544/51544 [==============================] - 5s 96us/step - loss: 2.6345 - acc: 0.2488 - val_loss: 2.8887 - val_acc: 0.2304\n",
      "\n",
      "Epoch 00053: val_loss did not improve from 2.51430\n",
      "Epoch 54/100\n",
      "51544/51544 [==============================] - 5s 95us/step - loss: 2.6232 - acc: 0.2498 - val_loss: 2.8854 - val_acc: 0.2268\n",
      "\n",
      "Epoch 00054: val_loss did not improve from 2.51430\n",
      "Epoch 55/100\n",
      "51544/51544 [==============================] - 5s 96us/step - loss: 2.6037 - acc: 0.2541 - val_loss: 2.8675 - val_acc: 0.2289\n",
      "\n",
      "Epoch 00055: val_loss did not improve from 2.51430\n",
      "Epoch 56/100\n",
      "51544/51544 [==============================] - 5s 96us/step - loss: 2.5932 - acc: 0.2581 - val_loss: 2.8813 - val_acc: 0.2261\n",
      "\n",
      "Epoch 00056: val_loss did not improve from 2.51430\n",
      "Epoch 57/100\n",
      "51544/51544 [==============================] - 5s 96us/step - loss: 2.5876 - acc: 0.2567 - val_loss: 2.8246 - val_acc: 0.2365\n",
      "\n",
      "Epoch 00057: val_loss did not improve from 2.51430\n",
      "Epoch 58/100\n",
      "51544/51544 [==============================] - 5s 96us/step - loss: 2.5685 - acc: 0.2615 - val_loss: 2.8518 - val_acc: 0.2297\n",
      "\n",
      "Epoch 00058: val_loss did not improve from 2.51430\n",
      "Epoch 59/100\n",
      "51544/51544 [==============================] - 5s 99us/step - loss: 2.5588 - acc: 0.2626 - val_loss: 2.8458 - val_acc: 0.2325\n",
      "\n",
      "Epoch 00059: val_loss did not improve from 2.51430\n",
      "Epoch 60/100\n",
      "51544/51544 [==============================] - 5s 96us/step - loss: 2.5496 - acc: 0.2638 - val_loss: 2.8320 - val_acc: 0.2316\n",
      "\n",
      "Epoch 00060: val_loss did not improve from 2.51430\n",
      "Epoch 61/100\n",
      "51544/51544 [==============================] - 5s 98us/step - loss: 2.5397 - acc: 0.2657 - val_loss: 2.8551 - val_acc: 0.2313\n",
      "\n",
      "Epoch 00061: val_loss did not improve from 2.51430\n",
      "Epoch 62/100\n",
      "51544/51544 [==============================] - 5s 97us/step - loss: 2.5265 - acc: 0.2659 - val_loss: 2.8131 - val_acc: 0.2344\n",
      "\n",
      "Epoch 00062: val_loss did not improve from 2.51430\n",
      "Epoch 63/100\n",
      "51544/51544 [==============================] - 5s 97us/step - loss: 2.5177 - acc: 0.2673 - val_loss: 2.8040 - val_acc: 0.2312\n",
      "\n",
      "Epoch 00063: val_loss did not improve from 2.51430\n",
      "Epoch 64/100\n",
      "51544/51544 [==============================] - 5s 99us/step - loss: 2.5062 - acc: 0.2708 - val_loss: 2.8038 - val_acc: 0.2351\n",
      "\n",
      "Epoch 00064: val_loss did not improve from 2.51430\n",
      "Epoch 65/100\n",
      "51544/51544 [==============================] - 5s 96us/step - loss: 2.4998 - acc: 0.2694 - val_loss: 2.8080 - val_acc: 0.2400\n",
      "\n",
      "Epoch 00065: val_loss did not improve from 2.51430\n",
      "Epoch 66/100\n",
      "51544/51544 [==============================] - 5s 95us/step - loss: 2.4876 - acc: 0.2696 - val_loss: 2.8051 - val_acc: 0.2334\n",
      "\n",
      "Epoch 00066: val_loss did not improve from 2.51430\n",
      "Epoch 67/100\n",
      "51544/51544 [==============================] - 5s 95us/step - loss: 2.4728 - acc: 0.2752 - val_loss: 2.7871 - val_acc: 0.2417\n",
      "\n",
      "Epoch 00067: val_loss did not improve from 2.51430\n",
      "Epoch 68/100\n",
      "51544/51544 [==============================] - 5s 95us/step - loss: 2.4687 - acc: 0.2781 - val_loss: 2.7869 - val_acc: 0.2382\n",
      "\n",
      "Epoch 00068: val_loss did not improve from 2.51430\n",
      "Epoch 69/100\n",
      "51544/51544 [==============================] - 5s 95us/step - loss: 2.4621 - acc: 0.2765 - val_loss: 2.7769 - val_acc: 0.2416\n",
      "\n",
      "Epoch 00069: val_loss did not improve from 2.51430\n",
      "Epoch 70/100\n",
      "51544/51544 [==============================] - 5s 95us/step - loss: 2.4497 - acc: 0.2778 - val_loss: 2.7779 - val_acc: 0.2411\n",
      "\n",
      "Epoch 00070: val_loss did not improve from 2.51430\n",
      "Epoch 71/100\n",
      "51544/51544 [==============================] - 5s 95us/step - loss: 2.4447 - acc: 0.2772 - val_loss: 2.7574 - val_acc: 0.2455\n",
      "\n",
      "Epoch 00071: val_loss did not improve from 2.51430\n",
      "Epoch 72/100\n",
      "51544/51544 [==============================] - 5s 95us/step - loss: 2.4354 - acc: 0.2782 - val_loss: 2.7608 - val_acc: 0.2416\n",
      "\n",
      "Epoch 00072: val_loss did not improve from 2.51430\n",
      "Epoch 73/100\n",
      "51544/51544 [==============================] - 5s 96us/step - loss: 2.4263 - acc: 0.2837 - val_loss: 2.7404 - val_acc: 0.2489\n",
      "\n",
      "Epoch 00073: val_loss did not improve from 2.51430\n",
      "Epoch 74/100\n",
      "51544/51544 [==============================] - 5s 95us/step - loss: 2.4173 - acc: 0.2818 - val_loss: 2.7553 - val_acc: 0.2427\n",
      "\n",
      "Epoch 00074: val_loss did not improve from 2.51430\n",
      "Epoch 75/100\n",
      "51544/51544 [==============================] - 5s 95us/step - loss: 2.4107 - acc: 0.2840 - val_loss: 2.7512 - val_acc: 0.2430\n",
      "\n",
      "Epoch 00075: val_loss did not improve from 2.51430\n",
      "Epoch 76/100\n",
      "51544/51544 [==============================] - 5s 95us/step - loss: 2.3964 - acc: 0.2886 - val_loss: 2.7322 - val_acc: 0.2483\n",
      "\n",
      "Epoch 00076: val_loss did not improve from 2.51430\n",
      "Epoch 77/100\n",
      "51544/51544 [==============================] - 5s 97us/step - loss: 2.3935 - acc: 0.2867 - val_loss: 2.7376 - val_acc: 0.2438\n",
      "\n",
      "Epoch 00077: val_loss did not improve from 2.51430\n",
      "Epoch 78/100\n",
      "51544/51544 [==============================] - 5s 97us/step - loss: 2.3860 - acc: 0.2897 - val_loss: 2.7372 - val_acc: 0.2462\n",
      "\n",
      "Epoch 00078: val_loss did not improve from 2.51430\n",
      "Epoch 79/100\n",
      "51544/51544 [==============================] - 5s 98us/step - loss: 2.3788 - acc: 0.2860 - val_loss: 2.7451 - val_acc: 0.2476\n",
      "\n",
      "Epoch 00079: val_loss did not improve from 2.51430\n",
      "Epoch 80/100\n",
      "51544/51544 [==============================] - 5s 97us/step - loss: 2.3664 - acc: 0.2898 - val_loss: 2.7211 - val_acc: 0.2503\n",
      "\n",
      "Epoch 00080: val_loss did not improve from 2.51430\n",
      "Epoch 81/100\n",
      "51544/51544 [==============================] - 5s 95us/step - loss: 2.3672 - acc: 0.2916 - val_loss: 2.6984 - val_acc: 0.2525\n",
      "\n",
      "Epoch 00081: val_loss did not improve from 2.51430\n",
      "Epoch 82/100\n",
      "51544/51544 [==============================] - 5s 96us/step - loss: 2.3458 - acc: 0.2964 - val_loss: 2.7089 - val_acc: 0.2538\n",
      "\n",
      "Epoch 00082: val_loss did not improve from 2.51430\n",
      "Epoch 83/100\n",
      "51544/51544 [==============================] - 5s 95us/step - loss: 2.3440 - acc: 0.2939 - val_loss: 2.6987 - val_acc: 0.2507\n",
      "\n",
      "Epoch 00083: val_loss did not improve from 2.51430\n",
      "Epoch 84/100\n",
      "51544/51544 [==============================] - 5s 96us/step - loss: 2.3359 - acc: 0.2968 - val_loss: 2.6993 - val_acc: 0.2501\n",
      "\n",
      "Epoch 00084: val_loss did not improve from 2.51430\n",
      "Epoch 85/100\n",
      "51544/51544 [==============================] - 5s 95us/step - loss: 2.3363 - acc: 0.2955 - val_loss: 2.6962 - val_acc: 0.2553\n",
      "\n",
      "Epoch 00085: val_loss did not improve from 2.51430\n",
      "Epoch 86/100\n",
      "51544/51544 [==============================] - 5s 96us/step - loss: 2.3289 - acc: 0.2988 - val_loss: 2.6959 - val_acc: 0.2539\n"
     ]
    },
    {
     "name": "stdout",
     "output_type": "stream",
     "text": [
      "\n",
      "Epoch 00086: val_loss did not improve from 2.51430\n",
      "Epoch 87/100\n",
      "51544/51544 [==============================] - 5s 95us/step - loss: 2.3218 - acc: 0.2992 - val_loss: 2.6888 - val_acc: 0.2563\n",
      "\n",
      "Epoch 00087: val_loss did not improve from 2.51430\n",
      "Epoch 88/100\n",
      "51544/51544 [==============================] - 5s 95us/step - loss: 2.3151 - acc: 0.2995 - val_loss: 2.6883 - val_acc: 0.2544\n",
      "\n",
      "Epoch 00088: val_loss did not improve from 2.51430\n",
      "Epoch 89/100\n",
      "51544/51544 [==============================] - 5s 95us/step - loss: 2.3100 - acc: 0.2997 - val_loss: 2.6978 - val_acc: 0.2545\n",
      "\n",
      "Epoch 00089: val_loss did not improve from 2.51430\n",
      "Epoch 90/100\n",
      "51544/51544 [==============================] - 5s 95us/step - loss: 2.3111 - acc: 0.3013 - val_loss: 2.6830 - val_acc: 0.2586\n",
      "\n",
      "Epoch 00090: val_loss did not improve from 2.51430\n",
      "Epoch 91/100\n",
      "51544/51544 [==============================] - 5s 95us/step - loss: 2.2870 - acc: 0.3037 - val_loss: 2.6911 - val_acc: 0.2528\n",
      "\n",
      "Epoch 00091: val_loss did not improve from 2.51430\n",
      "Epoch 92/100\n",
      "51544/51544 [==============================] - 5s 95us/step - loss: 2.2922 - acc: 0.3058 - val_loss: 2.6779 - val_acc: 0.2568\n",
      "\n",
      "Epoch 00092: val_loss did not improve from 2.51430\n",
      "Epoch 93/100\n",
      "51544/51544 [==============================] - 5s 95us/step - loss: 2.2867 - acc: 0.3053 - val_loss: 2.6780 - val_acc: 0.2590\n",
      "\n",
      "Epoch 00093: val_loss did not improve from 2.51430\n",
      "Epoch 94/100\n",
      "51544/51544 [==============================] - 5s 96us/step - loss: 2.2748 - acc: 0.3058 - val_loss: 2.6762 - val_acc: 0.2538\n",
      "\n",
      "Epoch 00094: val_loss did not improve from 2.51430\n",
      "Epoch 95/100\n",
      "51544/51544 [==============================] - 5s 97us/step - loss: 2.2744 - acc: 0.3080 - val_loss: 2.6668 - val_acc: 0.2564\n",
      "\n",
      "Epoch 00095: val_loss did not improve from 2.51430\n",
      "Epoch 96/100\n",
      "51544/51544 [==============================] - 5s 96us/step - loss: 2.2701 - acc: 0.3079 - val_loss: 2.6619 - val_acc: 0.2603\n",
      "\n",
      "Epoch 00096: val_loss did not improve from 2.51430\n",
      "Epoch 97/100\n",
      "51544/51544 [==============================] - 5s 97us/step - loss: 2.2541 - acc: 0.3094 - val_loss: 2.6686 - val_acc: 0.2554\n",
      "\n",
      "Epoch 00097: val_loss did not improve from 2.51430\n",
      "Epoch 98/100\n",
      "51544/51544 [==============================] - 5s 98us/step - loss: 2.2581 - acc: 0.3086 - val_loss: 2.6748 - val_acc: 0.2535\n",
      "\n",
      "Epoch 00098: val_loss did not improve from 2.51430\n",
      "Epoch 99/100\n",
      "51544/51544 [==============================] - 5s 97us/step - loss: 2.2447 - acc: 0.3122 - val_loss: 2.6829 - val_acc: 0.2608\n",
      "\n",
      "Epoch 00099: val_loss did not improve from 2.51430\n",
      "Epoch 100/100\n",
      "51544/51544 [==============================] - 5s 98us/step - loss: 2.2449 - acc: 0.3116 - val_loss: 2.6673 - val_acc: 0.2607\n",
      "\n",
      "Epoch 00100: val_loss did not improve from 2.51430\n"
     ]
    }
   ],
   "source": [
    "history = model.fit(\n",
    "    np.array(x_tr),\n",
    "    np.array(y_tr),\n",
    "    batch_size=BATCH_SIZE,\n",
    "    epochs=nEpocas, \n",
    "    validation_data=(np.array(x_val),np.array(y_val)),\n",
    "    verbose=1, \n",
    "    callbacks=[es, mc]\n",
    ")"
   ]
  },
  {
   "cell_type": "code",
   "execution_count": 75,
   "metadata": {},
   "outputs": [],
   "source": [
    "time = datetime.now()\n",
    "timestampStr = time.strftime(\"%d %b %Y %H %M %S %f)\")"
   ]
  },
  {
   "cell_type": "code",
   "execution_count": 76,
   "metadata": {},
   "outputs": [
    {
     "data": {
      "text/plain": [
       "<module 'matplotlib.pyplot' from 'c:\\\\users\\\\t-gamer\\\\documents\\\\git\\\\projetointeligenciaartificialsistemasugestao\\\\gpuvenv\\\\lib\\\\site-packages\\\\matplotlib\\\\pyplot.py'>"
      ]
     },
     "execution_count": 76,
     "metadata": {},
     "output_type": "execute_result"
    },
    {
     "data": {
      "image/png": "[encoded data removed]",
      "text/plain": [
       "<Figure size 432x288 with 1 Axes>"
      ]
     },
     "metadata": {
      "image/png": {
       "height": 277,
       "width": 393
      },
      "needs_background": "light"
     },
     "output_type": "display_data"
    }
   ],
   "source": [
    "time = datetime.now()\n",
    "timestampStr = time.strftime(\"%d %b %Y %H %M %S %f)\")\n",
    "plt.plot(history.history['acc'])\n",
    "plt.plot(history.history['val_acc'])\n",
    "plt.title('model accuracy')\n",
    "plt.ylabel('accuracy')\n",
    "plt.xlabel('epoch')\n",
    "plt.legend(['train', 'test'], loc='upper left')\n",
    "plt.savefig(\"accuracy\"+timestampStr+\".png\")\n",
    "plt"
   ]
  },
  {
   "cell_type": "code",
   "execution_count": 77,
   "metadata": {},
   "outputs": [
    {
     "data": {
      "text/plain": [
       "<module 'matplotlib.pyplot' from 'c:\\\\users\\\\t-gamer\\\\documents\\\\git\\\\projetointeligenciaartificialsistemasugestao\\\\gpuvenv\\\\lib\\\\site-packages\\\\matplotlib\\\\pyplot.py'>"
      ]
     },
     "execution_count": 77,
     "metadata": {},
     "output_type": "execute_result"
    },
    {
     "data": {
      "image/png": "[encoded data removed]",
      "text/plain": [
       "<Figure size 432x288 with 1 Axes>"
      ]
     },
     "metadata": {
      "image/png": {
       "height": 277,
       "width": 387
      },
      "needs_background": "light"
     },
     "output_type": "display_data"
    }
   ],
   "source": [
    "\n",
    "plt.plot(history.history['loss'])\n",
    "plt.plot(history.history['val_loss'])\n",
    "plt.title('model loss')\n",
    "plt.ylabel('loss')\n",
    "plt.xlabel('epoch')\n",
    "plt.legend(['train', 'test'], loc='upper left')\n",
    "plt.savefig(\"loss\"+timestampStr+\".png\")\n",
    "plt"
   ]
  },
  {
   "cell_type": "code",
   "execution_count": 50,
   "metadata": {},
   "outputs": [],
   "source": [
    "#loading best model\n",
    "model = load_model('best_model.h5')"
   ]
  },
  {
   "cell_type": "code",
   "execution_count": 177,
   "metadata": {},
   "outputs": [
    {
     "data": {
      "text/plain": [
       "array([ 61,  92, 135,  65,  18,  59,  63,  95, 109,  82, 101,   8,  92,\n",
       "        18,  98, 147, 101,   8,  82,  57,  22, 147,  82,   8,  57, 101,\n",
       "       109,  82,  92, 135,  18,  92])"
      ]
     },
     "execution_count": 177,
     "metadata": {},
     "output_type": "execute_result"
    }
   ],
   "source": [
    "\n",
    "x_val[np.random.randint(0,len(x_val)-1)]"
   ]
  },
  {
   "cell_type": "code",
   "execution_count": 74,
   "metadata": {},
   "outputs": [
    {
     "name": "stdout",
     "output_type": "stream",
     "text": [
      "[83, 12, 83, 12, 83, 83, 78, 78, 78, 78, 78, 78, 23, 23, 48, 78, 78, 78, 83, 78, 78, 78, 69, 78, 69, 78, 83, 69, 83, 69, 83, 69, 69, 83, 83, 83, 83, 83, 83, 83, 83, 83, 83, 51, 51, 51, 51, 51, 51, 51, 51, 51, 51, 51, 51, 51, 51, 51, 51, 51, 51, 51, 51, 51, 51, 51, 51, 51, 51, 51, 51, 23, 23, 23, 23, 23, 23, 23, 23, 23, 78, 164, 164, 164, 164, 164, 148, 148, 148, 148, 148, 164, 164, 164, 164, 164, 164, 164, 164, 164, 164, 164, 164, 164, 164, 164, 164, 164, 83, 164, 164, 164, 164, 164, 164, 164, 164, 164, 164, 164, 164, 164, 164, 164, 164, 164, 164, 164, 164, 164, 164, 164, 164, 164, 164, 164, 164, 164, 164, 164, 164, 164, 164, 164, 164, 164, 164, 164, 164, 164, 164, 164, 164, 164, 164, 164, 164, 164, 164, 164, 164, 164, 164, 164, 164, 164, 164, 164, 164, 164, 164, 164, 164, 164, 164, 164, 164, 164, 164, 164, 164, 164, 164, 164, 164, 164, 164, 164, 164, 164, 164, 164, 164, 164, 164, 164, 164, 164, 164, 164, 164, 164, 164, 164, 164, 164, 164, 164, 164, 164, 164, 164, 164, 164, 164, 164, 164, 164, 164, 164, 164, 164, 164, 164, 164, 164, 164, 164, 164, 164, 164, 164, 164, 164, 164, 164, 164, 164, 164, 164, 164, 164, 164, 164, 164, 164, 164, 164, 164, 164, 164, 164, 164, 164, 164, 164, 164, 164, 164, 164, 164, 164, 164, 164, 164, 164, 164, 164, 164, 164, 164, 164, 164, 164, 164, 164, 164, 164, 164, 164, 164, 164, 164, 164, 164, 164, 164, 164, 164, 164, 164, 164, 164, 164, 164, 164, 164, 164, 164, 164]\n"
     ]
    }
   ],
   "source": [
    "\n",
    "ind = np.random.randint(0,len(x_val)-1)\n",
    "\n",
    "random_music = x_val[ind]\n",
    "\n",
    "predictions=[]\n",
    "for i in range(300):\n",
    "\n",
    "    random_music = random_music.reshape(1,no_of_timesteps)\n",
    "\n",
    "    prob  = model.predict(random_music)[0]\n",
    "    y_pred= np.argmax(prob,axis=0)\n",
    "    predictions.append(y_pred)\n",
    "\n",
    "    random_music = np.insert(random_music[0],len(random_music[0]),y_pred)\n",
    "    random_music = random_music[1:]\n",
    "    \n",
    "print(predictions)"
   ]
  },
  {
   "cell_type": "code",
   "execution_count": 46,
   "metadata": {},
   "outputs": [],
   "source": [
    "x_int_to_note = dict((number, note_) for number, note_ in enumerate(unique_x)) \n",
    "predicted_notes = [x_int_to_note[i] for i in predictions]"
   ]
  },
  {
   "cell_type": "code",
   "execution_count": 38,
   "metadata": {},
   "outputs": [],
   "source": [
    "def convert_to_midi(prediction_output):\n",
    "   \n",
    "    offset = 0\n",
    "    output_notes = []\n",
    "\n",
    "    # create note and chord objects based on the values generated by the model\n",
    "    for pattern in prediction_output:\n",
    "        \n",
    "        # pattern is a chord\n",
    "        if ('.' in pattern) or pattern.isdigit():\n",
    "            notes_in_chord = pattern.split('.')\n",
    "            notes = []\n",
    "            for current_note in notes_in_chord:\n",
    "                \n",
    "                cn=int(current_note)\n",
    "                new_note = note.Note(cn)\n",
    "                new_note.storedInstrument = instrument.Piano()\n",
    "                notes.append(new_note)\n",
    "                \n",
    "            new_chord = chord.Chord(notes)\n",
    "            new_chord.offset = offset\n",
    "            output_notes.append(new_chord)\n",
    "            \n",
    "        # pattern is a note\n",
    "        else:\n",
    "            \n",
    "            new_note = note.Note(pattern)\n",
    "            new_note.offset = offset\n",
    "            new_note.storedInstrument = instrument.Piano()\n",
    "            output_notes.append(new_note)\n",
    "\n",
    "        # increase offset each iteration so that notes do not stack\n",
    "        offset += 1\n",
    "    midi_stream = stream.Stream(output_notes)\n",
    "    midi_stream.write('midi', fp='music.mid')"
   ]
  },
  {
   "cell_type": "code",
   "execution_count": 43,
   "metadata": {},
   "outputs": [],
   "source": [
    "convert_to_midi(predicted_notes)"
   ]
  },
  {
   "cell_type": "code",
   "execution_count": 44,
   "metadata": {},
   "outputs": [],
   "source": [
    "midi = converter.parse(\"music.mid\")\n",
    "midi.show()"
   ]
  },
  {
   "cell_type": "code",
   "execution_count": 169,
   "metadata": {},
   "outputs": [],
   "source": [
    "s3 = instrument.partitionByInstrument(midi)\n",
    "s3.show()"
   ]
  }
 ],
 "metadata": {
  "kernelspec": {
   "display_name": "Python 3",
   "language": "python",
   "name": "python3"
  },
  "language_info": {
   "codemirror_mode": {
    "name": "ipython",
    "version": 3
   },
   "file_extension": ".py",
   "mimetype": "text/x-python",
   "name": "python",
   "nbconvert_exporter": "python",
   "pygments_lexer": "ipython3",
   "version": "3.6.8"
  }
 },
 "nbformat": 4,
 "nbformat_minor": 2
}
